{
 "cells": [
  {
   "cell_type": "markdown",
   "metadata": {},
   "source": [
    "# Pre-Processing for Model 2"
   ]
  },
  {
   "cell_type": "code",
   "execution_count": 1,
   "metadata": {},
   "outputs": [
    {
     "name": "stdout",
     "output_type": "stream",
     "text": [
      "importing Jupyter notebook from Features_extraction.ipynb\n"
     ]
    },
    {
     "name": "stderr",
     "output_type": "stream",
     "text": [
      "/Library/Frameworks/Python.framework/Versions/3.7/lib/python3.7/site-packages/sklearn/utils/linear_assignment_.py:21: DeprecationWarning: The linear_assignment_ module is deprecated in 0.21 and will be removed from 0.23. Use scipy.optimize.linear_sum_assignment instead.\n",
      "  DeprecationWarning)\n",
      "Did not use initialization regex that was passed: .*token_embedder_tokens\\._projection.*weight\n",
      "Did not use initialization regex that was passed: .*token_embedder_tokens\\._projection.*weight\n"
     ]
    }
   ],
   "source": [
    "import numpy as np\n",
    "import json\n",
    "import pandas as pd\n",
    "from pandas.io.json import json_normalize\n",
    "import xapian\n",
    "import string\n",
    "import sys\n",
    "import time\n",
    "import glob\n",
    "from pandas import DataFrame\n",
    "import spacy\n",
    "import import_ipynb\n",
    "from Features_extraction import *"
   ]
  },
  {
   "cell_type": "markdown",
   "metadata": {},
   "source": [
    "## Train Set pre_processing"
   ]
  },
  {
   "cell_type": "code",
   "execution_count": null,
   "metadata": {},
   "outputs": [],
   "source": [
    "train_file = \"traing_with_text.json\"\n",
    "train_set = pd.read_json(open(train_file),orient='index')"
   ]
  },
  {
   "cell_type": "code",
   "execution_count": null,
   "metadata": {},
   "outputs": [],
   "source": [
    "train_set.count()"
   ]
  },
  {
   "cell_type": "code",
   "execution_count": null,
   "metadata": {},
   "outputs": [],
   "source": [
    "train_set.head()"
   ]
  },
  {
   "cell_type": "code",
   "execution_count": null,
   "metadata": {},
   "outputs": [],
   "source": [
    "support_data = train_set[train_set.label == \"SUPPORTS\"]             # search only Support\n",
    "refute_data = train_set[train_set.label == \"REFUTES\"]               # search only Refutes"
   ]
  },
  {
   "cell_type": "code",
   "execution_count": null,
   "metadata": {},
   "outputs": [],
   "source": [
    "n = 25000\n",
    "support_data = support_data.sample(n)\n",
    "refute_data = refute_data.sample(n)"
   ]
  },
  {
   "cell_type": "code",
   "execution_count": null,
   "metadata": {},
   "outputs": [],
   "source": [
    "train_set = pd.concat([support_data,refute_data])"
   ]
  },
  {
   "cell_type": "code",
   "execution_count": null,
   "metadata": {},
   "outputs": [],
   "source": [
    "train_set[\"text\"] = train_set.text.apply(lambda x: \" \".join(x))"
   ]
  },
  {
   "cell_type": "code",
   "execution_count": null,
   "metadata": {},
   "outputs": [],
   "source": [
    "train_set.head()"
   ]
  },
  {
   "cell_type": "markdown",
   "metadata": {},
   "source": [
    "## feature extraction"
   ]
  },
  {
   "cell_type": "code",
   "execution_count": null,
   "metadata": {},
   "outputs": [],
   "source": [
    "%%time\n",
    "agree = []\n",
    "disagree = []\n",
    "neutral=[]\n",
    "\n",
    "    \n",
    "for i, val in train_set.iterrows():\n",
    "    claim = val['claim']\n",
    "    evidence = val['text']\n",
    "    \n",
    "    score = allen_score(claim,evidence)\n",
    "    a = score[0]\n",
    "    dis = score[1]\n",
    "    neu = score[2]\n",
    "    agree.append(a)\n",
    "    disagree.append(dis)\n",
    "    neutral.append(neu)\n",
    "    \n",
    "train_set['agree_score'] = agree\n",
    "train_set['disagree_score'] = disagree\n",
    "train_set['neutral_score'] = neutral"
   ]
  },
  {
   "cell_type": "code",
   "execution_count": null,
   "metadata": {},
   "outputs": [],
   "source": [
    "train_set.head()"
   ]
  },
  {
   "cell_type": "code",
   "execution_count": null,
   "metadata": {},
   "outputs": [],
   "source": [
    "#adding column'response' where Support = 1 and refutes = 0\n",
    "train_set['response'] = train_set['label'].apply(lambda x: 1 if x == 'SUPPORTS' else 0)\n",
    "train_set.head()"
   ]
  },
  {
   "cell_type": "code",
   "execution_count": null,
   "metadata": {},
   "outputs": [],
   "source": [
    "train_set.to_csv('train_with_new_features.csv') "
   ]
  },
  {
   "cell_type": "markdown",
   "metadata": {},
   "source": [
    "## Test Set pre_processing"
   ]
  },
  {
   "cell_type": "code",
   "execution_count": null,
   "metadata": {},
   "outputs": [],
   "source": [
    "test_from_supriya = 'testing_respone_is_one.csv'\n",
    "test_set_allen = pd.read_csv(open(test_from_supriya))\n",
    "test_set_allen = test_set_allen.drop(['Unnamed: 0','Unnamed: 0.1'], axis=1)\n"
   ]
  },
  {
   "cell_type": "code",
   "execution_count": 69,
   "metadata": {},
   "outputs": [],
   "source": [
    "def cleanItem(string):\n",
    "    array = string.split(', ')\n",
    "    return [str(array[0][2:-1]), int(array[1][1:-2])]"
   ]
  },
  {
   "cell_type": "code",
   "execution_count": 70,
   "metadata": {},
   "outputs": [],
   "source": [
    "test_set_allen['evidence_topk']= test_set_allen['evidence_topk'].apply(lambda x:cleanItem(x))"
   ]
  },
  {
   "cell_type": "code",
   "execution_count": 71,
   "metadata": {},
   "outputs": [],
   "source": [
    "test_set_with_text = test_set_allen.groupby(['claim_id','claim']).text_topk.apply(lambda x: \",\".join(x)).reset_index()"
   ]
  },
  {
   "cell_type": "code",
   "execution_count": 72,
   "metadata": {},
   "outputs": [
    {
     "data": {
      "text/html": [
       "<div>\n",
       "<style scoped>\n",
       "    .dataframe tbody tr th:only-of-type {\n",
       "        vertical-align: middle;\n",
       "    }\n",
       "\n",
       "    .dataframe tbody tr th {\n",
       "        vertical-align: top;\n",
       "    }\n",
       "\n",
       "    .dataframe thead th {\n",
       "        text-align: right;\n",
       "    }\n",
       "</style>\n",
       "<table border=\"1\" class=\"dataframe\">\n",
       "  <thead>\n",
       "    <tr style=\"text-align: right;\">\n",
       "      <th></th>\n",
       "      <th>claim_id</th>\n",
       "      <th>claim</th>\n",
       "      <th>text_topk</th>\n",
       "    </tr>\n",
       "  </thead>\n",
       "  <tbody>\n",
       "    <tr>\n",
       "      <th>0</th>\n",
       "      <td>11</td>\n",
       "      <td>Carlos Santana formed Santana in 1966.</td>\n",
       "      <td>Santana is an American Latin rock band formed ...</td>\n",
       "    </tr>\n",
       "    <tr>\n",
       "      <th>1</th>\n",
       "      <td>24</td>\n",
       "      <td>The filming of Dilwale Dulhania Le Jayenge end...</td>\n",
       "      <td>Dilwale Dulhania Le Jayenge was one of only th...</td>\n",
       "    </tr>\n",
       "    <tr>\n",
       "      <th>2</th>\n",
       "      <td>69</td>\n",
       "      <td>David Packouz was born in 1982.</td>\n",
       "      <td>David Mordechai Packouz -LRB- -LSB- pækhaʊs -R...</td>\n",
       "    </tr>\n",
       "    <tr>\n",
       "      <th>3</th>\n",
       "      <td>77</td>\n",
       "      <td>Nicholas Brody is also called Nick.</td>\n",
       "      <td>Nicholas `` Nick '' Brody , played by actor Da...</td>\n",
       "    </tr>\n",
       "    <tr>\n",
       "      <th>4</th>\n",
       "      <td>83</td>\n",
       "      <td>Honeymoon is the third major-label record by L...</td>\n",
       "      <td>Honeymoon is the fourth studio album and third...</td>\n",
       "    </tr>\n",
       "  </tbody>\n",
       "</table>\n",
       "</div>"
      ],
      "text/plain": [
       "   claim_id                                              claim  \\\n",
       "0        11             Carlos Santana formed Santana in 1966.   \n",
       "1        24  The filming of Dilwale Dulhania Le Jayenge end...   \n",
       "2        69                    David Packouz was born in 1982.   \n",
       "3        77                Nicholas Brody is also called Nick.   \n",
       "4        83  Honeymoon is the third major-label record by L...   \n",
       "\n",
       "                                           text_topk  \n",
       "0  Santana is an American Latin rock band formed ...  \n",
       "1  Dilwale Dulhania Le Jayenge was one of only th...  \n",
       "2  David Mordechai Packouz -LRB- -LSB- pækhaʊs -R...  \n",
       "3  Nicholas `` Nick '' Brody , played by actor Da...  \n",
       "4  Honeymoon is the fourth studio album and third...  "
      ]
     },
     "execution_count": 72,
     "metadata": {},
     "output_type": "execute_result"
    }
   ],
   "source": [
    "test_set_with_text.head()"
   ]
  },
  {
   "cell_type": "code",
   "execution_count": 73,
   "metadata": {},
   "outputs": [
    {
     "data": {
      "text/html": [
       "<div>\n",
       "<style scoped>\n",
       "    .dataframe tbody tr th:only-of-type {\n",
       "        vertical-align: middle;\n",
       "    }\n",
       "\n",
       "    .dataframe tbody tr th {\n",
       "        vertical-align: top;\n",
       "    }\n",
       "\n",
       "    .dataframe thead th {\n",
       "        text-align: right;\n",
       "    }\n",
       "</style>\n",
       "<table border=\"1\" class=\"dataframe\">\n",
       "  <thead>\n",
       "    <tr style=\"text-align: right;\">\n",
       "      <th></th>\n",
       "      <th>claim</th>\n",
       "      <th>text_topk</th>\n",
       "    </tr>\n",
       "  </thead>\n",
       "  <tbody>\n",
       "    <tr>\n",
       "      <th>11</th>\n",
       "      <td>Carlos Santana formed Santana in 1966.</td>\n",
       "      <td>Santana is an American Latin rock band formed ...</td>\n",
       "    </tr>\n",
       "    <tr>\n",
       "      <th>24</th>\n",
       "      <td>The filming of Dilwale Dulhania Le Jayenge end...</td>\n",
       "      <td>Dilwale Dulhania Le Jayenge was one of only th...</td>\n",
       "    </tr>\n",
       "    <tr>\n",
       "      <th>69</th>\n",
       "      <td>David Packouz was born in 1982.</td>\n",
       "      <td>David Mordechai Packouz -LRB- -LSB- pækhaʊs -R...</td>\n",
       "    </tr>\n",
       "    <tr>\n",
       "      <th>77</th>\n",
       "      <td>Nicholas Brody is also called Nick.</td>\n",
       "      <td>Nicholas `` Nick '' Brody , played by actor Da...</td>\n",
       "    </tr>\n",
       "    <tr>\n",
       "      <th>83</th>\n",
       "      <td>Honeymoon is the third major-label record by L...</td>\n",
       "      <td>Honeymoon is the fourth studio album and third...</td>\n",
       "    </tr>\n",
       "  </tbody>\n",
       "</table>\n",
       "</div>"
      ],
      "text/plain": [
       "                                                claim  \\\n",
       "11             Carlos Santana formed Santana in 1966.   \n",
       "24  The filming of Dilwale Dulhania Le Jayenge end...   \n",
       "69                    David Packouz was born in 1982.   \n",
       "77                Nicholas Brody is also called Nick.   \n",
       "83  Honeymoon is the third major-label record by L...   \n",
       "\n",
       "                                            text_topk  \n",
       "11  Santana is an American Latin rock band formed ...  \n",
       "24  Dilwale Dulhania Le Jayenge was one of only th...  \n",
       "69  David Mordechai Packouz -LRB- -LSB- pækhaʊs -R...  \n",
       "77  Nicholas `` Nick '' Brody , played by actor Da...  \n",
       "83  Honeymoon is the fourth studio album and third...  "
      ]
     },
     "execution_count": 73,
     "metadata": {},
     "output_type": "execute_result"
    }
   ],
   "source": [
    "test_set_with_text = test_set_with_text.set_index('claim_id')\n",
    "del test_set_with_text.index.name\n",
    "test_set_with_text.head()"
   ]
  },
  {
   "cell_type": "code",
   "execution_count": 74,
   "metadata": {},
   "outputs": [],
   "source": [
    "test_set_with_pageid = test_set_allen.groupby(['claim_id','claim']).evidence_topk.apply(list).reset_index()"
   ]
  },
  {
   "cell_type": "code",
   "execution_count": 75,
   "metadata": {},
   "outputs": [
    {
     "data": {
      "text/html": [
       "<div>\n",
       "<style scoped>\n",
       "    .dataframe tbody tr th:only-of-type {\n",
       "        vertical-align: middle;\n",
       "    }\n",
       "\n",
       "    .dataframe tbody tr th {\n",
       "        vertical-align: top;\n",
       "    }\n",
       "\n",
       "    .dataframe thead th {\n",
       "        text-align: right;\n",
       "    }\n",
       "</style>\n",
       "<table border=\"1\" class=\"dataframe\">\n",
       "  <thead>\n",
       "    <tr style=\"text-align: right;\">\n",
       "      <th></th>\n",
       "      <th>claim</th>\n",
       "      <th>evidence_topk</th>\n",
       "    </tr>\n",
       "  </thead>\n",
       "  <tbody>\n",
       "    <tr>\n",
       "      <th>11</th>\n",
       "      <td>Carlos Santana formed Santana in 1966.</td>\n",
       "      <td>[[Santana_-LRB-band-RRB-, 0], [Carlos_Santana_...</td>\n",
       "    </tr>\n",
       "    <tr>\n",
       "      <th>24</th>\n",
       "      <td>The filming of Dilwale Dulhania Le Jayenge end...</td>\n",
       "      <td>[[Dilwale_Dulhania_Le_Jayenge, 15], [List_of_r...</td>\n",
       "    </tr>\n",
       "    <tr>\n",
       "      <th>69</th>\n",
       "      <td>David Packouz was born in 1982.</td>\n",
       "      <td>[[David_Packouz, 0]]</td>\n",
       "    </tr>\n",
       "    <tr>\n",
       "      <th>77</th>\n",
       "      <td>Nicholas Brody is also called Nick.</td>\n",
       "      <td>[[Nicholas_Brody, 1]]</td>\n",
       "    </tr>\n",
       "    <tr>\n",
       "      <th>83</th>\n",
       "      <td>Honeymoon is the third major-label record by L...</td>\n",
       "      <td>[[Honeymoon_-LRB-Lana_Del_Rey_album-RRB-, 0], ...</td>\n",
       "    </tr>\n",
       "  </tbody>\n",
       "</table>\n",
       "</div>"
      ],
      "text/plain": [
       "                                                claim  \\\n",
       "11             Carlos Santana formed Santana in 1966.   \n",
       "24  The filming of Dilwale Dulhania Le Jayenge end...   \n",
       "69                    David Packouz was born in 1982.   \n",
       "77                Nicholas Brody is also called Nick.   \n",
       "83  Honeymoon is the third major-label record by L...   \n",
       "\n",
       "                                        evidence_topk  \n",
       "11  [[Santana_-LRB-band-RRB-, 0], [Carlos_Santana_...  \n",
       "24  [[Dilwale_Dulhania_Le_Jayenge, 15], [List_of_r...  \n",
       "69                               [[David_Packouz, 0]]  \n",
       "77                              [[Nicholas_Brody, 1]]  \n",
       "83  [[Honeymoon_-LRB-Lana_Del_Rey_album-RRB-, 0], ...  "
      ]
     },
     "execution_count": 75,
     "metadata": {},
     "output_type": "execute_result"
    }
   ],
   "source": [
    "test_set_with_pageid = test_set_with_pageid.set_index('claim_id')\n",
    "del test_set_with_pageid.index.name\n",
    "test_set_with_pageid.head()"
   ]
  },
  {
   "cell_type": "code",
   "execution_count": 76,
   "metadata": {},
   "outputs": [],
   "source": [
    "test_set_with_pageid.rename(columns={\"claim\": \"claim1\"}, inplace= True)"
   ]
  },
  {
   "cell_type": "code",
   "execution_count": 77,
   "metadata": {},
   "outputs": [],
   "source": [
    "test_set_with_evidence_text = test_set_with_pageid.join(test_set_with_text, how = 'left')\n",
    "test_set_with_evidence_text = test_set_with_evidence_text.drop(['claim1'], axis=1)"
   ]
  },
  {
   "cell_type": "code",
   "execution_count": 78,
   "metadata": {},
   "outputs": [
    {
     "data": {
      "text/plain": [
       "evidence_topk    9645\n",
       "claim            9645\n",
       "text_topk        9645\n",
       "dtype: int64"
      ]
     },
     "execution_count": 78,
     "metadata": {},
     "output_type": "execute_result"
    }
   ],
   "source": [
    "test_set_with_evidence_text.count()"
   ]
  },
  {
   "cell_type": "code",
   "execution_count": 79,
   "metadata": {},
   "outputs": [
    {
     "data": {
      "text/html": [
       "<div>\n",
       "<style scoped>\n",
       "    .dataframe tbody tr th:only-of-type {\n",
       "        vertical-align: middle;\n",
       "    }\n",
       "\n",
       "    .dataframe tbody tr th {\n",
       "        vertical-align: top;\n",
       "    }\n",
       "\n",
       "    .dataframe thead th {\n",
       "        text-align: right;\n",
       "    }\n",
       "</style>\n",
       "<table border=\"1\" class=\"dataframe\">\n",
       "  <thead>\n",
       "    <tr style=\"text-align: right;\">\n",
       "      <th></th>\n",
       "      <th>evidence_topk</th>\n",
       "      <th>claim</th>\n",
       "      <th>text_topk</th>\n",
       "    </tr>\n",
       "  </thead>\n",
       "  <tbody>\n",
       "    <tr>\n",
       "      <th>11</th>\n",
       "      <td>[[Santana_-LRB-band-RRB-, 0], [Carlos_Santana_...</td>\n",
       "      <td>Carlos Santana formed Santana in 1966.</td>\n",
       "      <td>Santana is an American Latin rock band formed ...</td>\n",
       "    </tr>\n",
       "    <tr>\n",
       "      <th>24</th>\n",
       "      <td>[[Dilwale_Dulhania_Le_Jayenge, 15], [List_of_r...</td>\n",
       "      <td>The filming of Dilwale Dulhania Le Jayenge end...</td>\n",
       "      <td>Dilwale Dulhania Le Jayenge was one of only th...</td>\n",
       "    </tr>\n",
       "    <tr>\n",
       "      <th>69</th>\n",
       "      <td>[[David_Packouz, 0]]</td>\n",
       "      <td>David Packouz was born in 1982.</td>\n",
       "      <td>David Mordechai Packouz -LRB- -LSB- pækhaʊs -R...</td>\n",
       "    </tr>\n",
       "    <tr>\n",
       "      <th>77</th>\n",
       "      <td>[[Nicholas_Brody, 1]]</td>\n",
       "      <td>Nicholas Brody is also called Nick.</td>\n",
       "      <td>Nicholas `` Nick '' Brody , played by actor Da...</td>\n",
       "    </tr>\n",
       "    <tr>\n",
       "      <th>83</th>\n",
       "      <td>[[Honeymoon_-LRB-Lana_Del_Rey_album-RRB-, 0], ...</td>\n",
       "      <td>Honeymoon is the third major-label record by L...</td>\n",
       "      <td>Honeymoon is the fourth studio album and third...</td>\n",
       "    </tr>\n",
       "  </tbody>\n",
       "</table>\n",
       "</div>"
      ],
      "text/plain": [
       "                                        evidence_topk  \\\n",
       "11  [[Santana_-LRB-band-RRB-, 0], [Carlos_Santana_...   \n",
       "24  [[Dilwale_Dulhania_Le_Jayenge, 15], [List_of_r...   \n",
       "69                               [[David_Packouz, 0]]   \n",
       "77                              [[Nicholas_Brody, 1]]   \n",
       "83  [[Honeymoon_-LRB-Lana_Del_Rey_album-RRB-, 0], ...   \n",
       "\n",
       "                                                claim  \\\n",
       "11             Carlos Santana formed Santana in 1966.   \n",
       "24  The filming of Dilwale Dulhania Le Jayenge end...   \n",
       "69                    David Packouz was born in 1982.   \n",
       "77                Nicholas Brody is also called Nick.   \n",
       "83  Honeymoon is the third major-label record by L...   \n",
       "\n",
       "                                            text_topk  \n",
       "11  Santana is an American Latin rock band formed ...  \n",
       "24  Dilwale Dulhania Le Jayenge was one of only th...  \n",
       "69  David Mordechai Packouz -LRB- -LSB- pækhaʊs -R...  \n",
       "77  Nicholas `` Nick '' Brody , played by actor Da...  \n",
       "83  Honeymoon is the fourth studio album and third...  "
      ]
     },
     "execution_count": 79,
     "metadata": {},
     "output_type": "execute_result"
    }
   ],
   "source": [
    "test_set_with_evidence_text.head()"
   ]
  },
  {
   "cell_type": "markdown",
   "metadata": {},
   "source": [
    "## Feature Extraction"
   ]
  },
  {
   "cell_type": "code",
   "execution_count": 41,
   "metadata": {},
   "outputs": [
    {
     "name": "stdout",
     "output_type": "stream",
     "text": [
      "CPU times: user 17h 37min 54s, sys: 37min 59s, total: 18h 15min 54s\n",
      "Wall time: 2h 19min 29s\n"
     ]
    }
   ],
   "source": [
    "%%time\n",
    "agree = []\n",
    "disagree = []\n",
    "neutral=[]\n",
    "\n",
    "    \n",
    "for i, val in test_set_with_evidence_text.iterrows():\n",
    "    claim = val['claim']\n",
    "    evidence = val['text_topk']\n",
    "    \n",
    "    score = allen_score(claim,evidence)\n",
    "    a = score[0]\n",
    "    dis = score[1]\n",
    "    neu = score[2]\n",
    "    agree.append(a)\n",
    "    disagree.append(dis)\n",
    "    neutral.append(neu)\n",
    "    \n",
    "test_set_with_evidence_text['agree_score'] = agree\n",
    "test_set_with_evidence_text['disagree_score'] = disagree\n",
    "test_set_with_evidence_text['neutral_score'] = neutral\n"
   ]
  },
  {
   "cell_type": "code",
   "execution_count": 42,
   "metadata": {},
   "outputs": [
    {
     "data": {
      "text/html": [
       "<div>\n",
       "<style scoped>\n",
       "    .dataframe tbody tr th:only-of-type {\n",
       "        vertical-align: middle;\n",
       "    }\n",
       "\n",
       "    .dataframe tbody tr th {\n",
       "        vertical-align: top;\n",
       "    }\n",
       "\n",
       "    .dataframe thead th {\n",
       "        text-align: right;\n",
       "    }\n",
       "</style>\n",
       "<table border=\"1\" class=\"dataframe\">\n",
       "  <thead>\n",
       "    <tr style=\"text-align: right;\">\n",
       "      <th></th>\n",
       "      <th>evidence_topk</th>\n",
       "      <th>claim</th>\n",
       "      <th>text_topk</th>\n",
       "      <th>agree_score</th>\n",
       "      <th>disagree_score</th>\n",
       "      <th>neutral_score</th>\n",
       "    </tr>\n",
       "  </thead>\n",
       "  <tbody>\n",
       "    <tr>\n",
       "      <th>11</th>\n",
       "      <td>[[Santana_-LRB-band-RRB-, 0], [Carlos_Santana_...</td>\n",
       "      <td>Carlos Santana formed Santana in 1966.</td>\n",
       "      <td>Santana is an American Latin rock band formed ...</td>\n",
       "      <td>0.999096</td>\n",
       "      <td>0.000896</td>\n",
       "      <td>0.000008</td>\n",
       "    </tr>\n",
       "    <tr>\n",
       "      <th>24</th>\n",
       "      <td>[[Dilwale_Dulhania_Le_Jayenge, 15], [List_of_r...</td>\n",
       "      <td>The filming of Dilwale Dulhania Le Jayenge end...</td>\n",
       "      <td>Dilwale Dulhania Le Jayenge was one of only th...</td>\n",
       "      <td>0.998563</td>\n",
       "      <td>0.000712</td>\n",
       "      <td>0.000726</td>\n",
       "    </tr>\n",
       "    <tr>\n",
       "      <th>69</th>\n",
       "      <td>[[David_Packouz, 0]]</td>\n",
       "      <td>David Packouz was born in 1982.</td>\n",
       "      <td>David Mordechai Packouz -LRB- -LSB- pækhaʊs -R...</td>\n",
       "      <td>0.393470</td>\n",
       "      <td>0.459105</td>\n",
       "      <td>0.147425</td>\n",
       "    </tr>\n",
       "    <tr>\n",
       "      <th>77</th>\n",
       "      <td>[[Nicholas_Brody, 1]]</td>\n",
       "      <td>Nicholas Brody is also called Nick.</td>\n",
       "      <td>Nicholas `` Nick '' Brody , played by actor Da...</td>\n",
       "      <td>0.133326</td>\n",
       "      <td>0.620620</td>\n",
       "      <td>0.246054</td>\n",
       "    </tr>\n",
       "    <tr>\n",
       "      <th>83</th>\n",
       "      <td>[[Honeymoon_-LRB-Lana_Del_Rey_album-RRB-, 0], ...</td>\n",
       "      <td>Honeymoon is the third major-label record by L...</td>\n",
       "      <td>Honeymoon is the fourth studio album and third...</td>\n",
       "      <td>0.935128</td>\n",
       "      <td>0.064867</td>\n",
       "      <td>0.000005</td>\n",
       "    </tr>\n",
       "  </tbody>\n",
       "</table>\n",
       "</div>"
      ],
      "text/plain": [
       "                                        evidence_topk  \\\n",
       "11  [[Santana_-LRB-band-RRB-, 0], [Carlos_Santana_...   \n",
       "24  [[Dilwale_Dulhania_Le_Jayenge, 15], [List_of_r...   \n",
       "69                               [[David_Packouz, 0]]   \n",
       "77                              [[Nicholas_Brody, 1]]   \n",
       "83  [[Honeymoon_-LRB-Lana_Del_Rey_album-RRB-, 0], ...   \n",
       "\n",
       "                                                claim  \\\n",
       "11             Carlos Santana formed Santana in 1966.   \n",
       "24  The filming of Dilwale Dulhania Le Jayenge end...   \n",
       "69                    David Packouz was born in 1982.   \n",
       "77                Nicholas Brody is also called Nick.   \n",
       "83  Honeymoon is the third major-label record by L...   \n",
       "\n",
       "                                            text_topk  agree_score  \\\n",
       "11  Santana is an American Latin rock band formed ...     0.999096   \n",
       "24  Dilwale Dulhania Le Jayenge was one of only th...     0.998563   \n",
       "69  David Mordechai Packouz -LRB- -LSB- pækhaʊs -R...     0.393470   \n",
       "77  Nicholas `` Nick '' Brody , played by actor Da...     0.133326   \n",
       "83  Honeymoon is the fourth studio album and third...     0.935128   \n",
       "\n",
       "    disagree_score  neutral_score  \n",
       "11        0.000896       0.000008  \n",
       "24        0.000712       0.000726  \n",
       "69        0.459105       0.147425  \n",
       "77        0.620620       0.246054  \n",
       "83        0.064867       0.000005  "
      ]
     },
     "execution_count": 42,
     "metadata": {},
     "output_type": "execute_result"
    }
   ],
   "source": [
    "test_set_with_evidence_text.head()"
   ]
  },
  {
   "cell_type": "code",
   "execution_count": null,
   "metadata": {},
   "outputs": [],
   "source": [
    "test_set_with_evidence_text.to_csv('test_with_new_features.csv')"
   ]
  }
 ],
 "metadata": {
  "kernelspec": {
   "display_name": "Python 3",
   "language": "python",
   "name": "python3"
  },
  "language_info": {
   "codemirror_mode": {
    "name": "ipython",
    "version": 3
   },
   "file_extension": ".py",
   "mimetype": "text/x-python",
   "name": "python",
   "nbconvert_exporter": "python",
   "pygments_lexer": "ipython3",
   "version": "3.7.2"
  }
 },
 "nbformat": 4,
 "nbformat_minor": 2
}
