{
 "cells": [
  {
   "cell_type": "markdown",
   "metadata": {},
   "source": [
    "# Modeling for Sentence Selection"
   ]
  },
  {
   "cell_type": "code",
   "execution_count": 1,
   "metadata": {},
   "outputs": [
    {
     "name": "stdout",
     "output_type": "stream",
     "text": [
      "importing Jupyter notebook from Features_extraction.ipynb\n"
     ]
    },
    {
     "name": "stderr",
     "output_type": "stream",
     "text": [
      "/Library/Frameworks/Python.framework/Versions/3.7/lib/python3.7/site-packages/sklearn/utils/linear_assignment_.py:21: DeprecationWarning: The linear_assignment_ module is deprecated in 0.21 and will be removed from 0.23. Use scipy.optimize.linear_sum_assignment instead.\n",
      "  DeprecationWarning)\n",
      "Did not use initialization regex that was passed: .*token_embedder_tokens\\._projection.*weight\n",
      "Did not use initialization regex that was passed: .*token_embedder_tokens\\._projection.*weight\n"
     ]
    }
   ],
   "source": [
    "import numpy as np\n",
    "import json\n",
    "import pandas as pd\n",
    "from pandas.io.json import json_normalize\n",
    "import xapian\n",
    "import string\n",
    "import sys\n",
    "import time\n",
    "import glob\n",
    "from pandas import DataFrame\n",
    "import spacy\n",
    "import import_ipynb\n",
    "import ast\n",
    "import csv\n",
    "from Features_extraction import *"
   ]
  },
  {
   "cell_type": "code",
   "execution_count": 2,
   "metadata": {},
   "outputs": [],
   "source": [
    "# import warnings filter\n",
    "from warnings import simplefilter\n",
    "# ignore all future warnings\n",
    "simplefilter(action='ignore', category=FutureWarning)"
   ]
  },
  {
   "cell_type": "code",
   "execution_count": 3,
   "metadata": {},
   "outputs": [],
   "source": [
    "from sklearn.model_selection import train_test_split\n",
    "from sklearn.linear_model import LogisticRegression\n",
    "from sklearn.metrics import classification_report\n",
    "from sklearn.metrics import accuracy_score\n",
    "from sklearn.model_selection import cross_validate\n",
    "from sklearn.model_selection import cross_val_predict\n",
    "from sklearn.model_selection import cross_val_score\n",
    "from sklearn.ensemble import RandomForestClassifier\n",
    "from sklearn.ensemble import RandomForestRegressor \n",
    "from sklearn.model_selection import RandomizedSearchCV\n",
    "from sklearn.metrics import roc_curve, auc"
   ]
  },
  {
   "cell_type": "markdown",
   "metadata": {},
   "source": [
    "### Reading Training File"
   ]
  },
  {
   "cell_type": "code",
   "execution_count": 242,
   "metadata": {},
   "outputs": [],
   "source": [
    "trainset = pd.read_csv('train_set_with_features.csv')"
   ]
  },
  {
   "cell_type": "code",
   "execution_count": 295,
   "metadata": {},
   "outputs": [],
   "source": [
    "interim_train_DF = trainset.groupby(['index', 'claim', 'label']).aggregate({'isGold': sum})\n",
    "interim_train_DF.reset_index(inplace=True)"
   ]
  },
  {
   "cell_type": "code",
   "execution_count": 296,
   "metadata": {},
   "outputs": [
    {
     "data": {
      "text/html": [
       "<div>\n",
       "<style scoped>\n",
       "    .dataframe tbody tr th:only-of-type {\n",
       "        vertical-align: middle;\n",
       "    }\n",
       "\n",
       "    .dataframe tbody tr th {\n",
       "        vertical-align: top;\n",
       "    }\n",
       "\n",
       "    .dataframe thead th {\n",
       "        text-align: right;\n",
       "    }\n",
       "</style>\n",
       "<table border=\"1\" class=\"dataframe\">\n",
       "  <thead>\n",
       "    <tr style=\"text-align: right;\">\n",
       "      <th></th>\n",
       "      <th>index</th>\n",
       "      <th>claim</th>\n",
       "      <th>label</th>\n",
       "      <th>isGold</th>\n",
       "    </tr>\n",
       "  </thead>\n",
       "  <tbody>\n",
       "    <tr>\n",
       "      <th>0</th>\n",
       "      <td>12</td>\n",
       "      <td>Carlos Santana disbanded Santana in 1965.</td>\n",
       "      <td>REFUTES</td>\n",
       "      <td>0</td>\n",
       "    </tr>\n",
       "    <tr>\n",
       "      <th>1</th>\n",
       "      <td>70</td>\n",
       "      <td>David Packouz was born in February of 1982.</td>\n",
       "      <td>SUPPORTS</td>\n",
       "      <td>1</td>\n",
       "    </tr>\n",
       "    <tr>\n",
       "      <th>2</th>\n",
       "      <td>97</td>\n",
       "      <td>Craig David is a pop music performer.</td>\n",
       "      <td>SUPPORTS</td>\n",
       "      <td>1</td>\n",
       "    </tr>\n",
       "    <tr>\n",
       "      <th>3</th>\n",
       "      <td>98</td>\n",
       "      <td>Craig David is a performer that does pop music.</td>\n",
       "      <td>NOT ENOUGH INFO</td>\n",
       "      <td>0</td>\n",
       "    </tr>\n",
       "    <tr>\n",
       "      <th>4</th>\n",
       "      <td>158</td>\n",
       "      <td>Wish Upon was released in France.</td>\n",
       "      <td>NOT ENOUGH INFO</td>\n",
       "      <td>0</td>\n",
       "    </tr>\n",
       "  </tbody>\n",
       "</table>\n",
       "</div>"
      ],
      "text/plain": [
       "   index                                            claim            label  \\\n",
       "0     12        Carlos Santana disbanded Santana in 1965.          REFUTES   \n",
       "1     70      David Packouz was born in February of 1982.         SUPPORTS   \n",
       "2     97            Craig David is a pop music performer.         SUPPORTS   \n",
       "3     98  Craig David is a performer that does pop music.  NOT ENOUGH INFO   \n",
       "4    158                Wish Upon was released in France.  NOT ENOUGH INFO   \n",
       "\n",
       "   isGold  \n",
       "0       0  \n",
       "1       1  \n",
       "2       1  \n",
       "3       0  \n",
       "4       0  "
      ]
     },
     "execution_count": 296,
     "metadata": {},
     "output_type": "execute_result"
    }
   ],
   "source": [
    "interimDF.head()"
   ]
  },
  {
   "cell_type": "code",
   "execution_count": 297,
   "metadata": {},
   "outputs": [],
   "source": [
    "df_without_NEI = interim_train_DF[~(interim_train_DF['label']=='NOT ENOUGH INFO')]"
   ]
  },
  {
   "cell_type": "code",
   "execution_count": 298,
   "metadata": {},
   "outputs": [
    {
     "data": {
      "text/html": [
       "<div>\n",
       "<style scoped>\n",
       "    .dataframe tbody tr th:only-of-type {\n",
       "        vertical-align: middle;\n",
       "    }\n",
       "\n",
       "    .dataframe tbody tr th {\n",
       "        vertical-align: top;\n",
       "    }\n",
       "\n",
       "    .dataframe thead th {\n",
       "        text-align: right;\n",
       "    }\n",
       "</style>\n",
       "<table border=\"1\" class=\"dataframe\">\n",
       "  <thead>\n",
       "    <tr style=\"text-align: right;\">\n",
       "      <th></th>\n",
       "      <th>index</th>\n",
       "      <th>claim</th>\n",
       "      <th>label</th>\n",
       "      <th>isGold</th>\n",
       "    </tr>\n",
       "  </thead>\n",
       "  <tbody>\n",
       "    <tr>\n",
       "      <th>0</th>\n",
       "      <td>12</td>\n",
       "      <td>Carlos Santana disbanded Santana in 1965.</td>\n",
       "      <td>REFUTES</td>\n",
       "      <td>0</td>\n",
       "    </tr>\n",
       "    <tr>\n",
       "      <th>1</th>\n",
       "      <td>70</td>\n",
       "      <td>David Packouz was born in February of 1982.</td>\n",
       "      <td>SUPPORTS</td>\n",
       "      <td>1</td>\n",
       "    </tr>\n",
       "    <tr>\n",
       "      <th>2</th>\n",
       "      <td>97</td>\n",
       "      <td>Craig David is a pop music performer.</td>\n",
       "      <td>SUPPORTS</td>\n",
       "      <td>1</td>\n",
       "    </tr>\n",
       "    <tr>\n",
       "      <th>5</th>\n",
       "      <td>369</td>\n",
       "      <td>The State of Palestine claims a territory in W...</td>\n",
       "      <td>REFUTES</td>\n",
       "      <td>0</td>\n",
       "    </tr>\n",
       "    <tr>\n",
       "      <th>6</th>\n",
       "      <td>422</td>\n",
       "      <td>John Krasinski is an astronaut.</td>\n",
       "      <td>REFUTES</td>\n",
       "      <td>1</td>\n",
       "    </tr>\n",
       "  </tbody>\n",
       "</table>\n",
       "</div>"
      ],
      "text/plain": [
       "   index                                              claim     label  isGold\n",
       "0     12          Carlos Santana disbanded Santana in 1965.   REFUTES       0\n",
       "1     70        David Packouz was born in February of 1982.  SUPPORTS       1\n",
       "2     97              Craig David is a pop music performer.  SUPPORTS       1\n",
       "5    369  The State of Palestine claims a territory in W...   REFUTES       0\n",
       "6    422                    John Krasinski is an astronaut.   REFUTES       1"
      ]
     },
     "execution_count": 298,
     "metadata": {},
     "output_type": "execute_result"
    }
   ],
   "source": [
    "df_without_NEI.head()"
   ]
  },
  {
   "cell_type": "code",
   "execution_count": 299,
   "metadata": {},
   "outputs": [],
   "source": [
    "df_withoutGold = without_NEI[~(without_NEI['isGold']==0)]"
   ]
  },
  {
   "cell_type": "code",
   "execution_count": 300,
   "metadata": {},
   "outputs": [
    {
     "data": {
      "text/html": [
       "<div>\n",
       "<style scoped>\n",
       "    .dataframe tbody tr th:only-of-type {\n",
       "        vertical-align: middle;\n",
       "    }\n",
       "\n",
       "    .dataframe tbody tr th {\n",
       "        vertical-align: top;\n",
       "    }\n",
       "\n",
       "    .dataframe thead th {\n",
       "        text-align: right;\n",
       "    }\n",
       "</style>\n",
       "<table border=\"1\" class=\"dataframe\">\n",
       "  <thead>\n",
       "    <tr style=\"text-align: right;\">\n",
       "      <th></th>\n",
       "      <th>index</th>\n",
       "      <th>claim</th>\n",
       "      <th>label</th>\n",
       "      <th>isGold</th>\n",
       "    </tr>\n",
       "  </thead>\n",
       "  <tbody>\n",
       "    <tr>\n",
       "      <th>1</th>\n",
       "      <td>70</td>\n",
       "      <td>David Packouz was born in February of 1982.</td>\n",
       "      <td>SUPPORTS</td>\n",
       "      <td>1</td>\n",
       "    </tr>\n",
       "    <tr>\n",
       "      <th>2</th>\n",
       "      <td>97</td>\n",
       "      <td>Craig David is a pop music performer.</td>\n",
       "      <td>SUPPORTS</td>\n",
       "      <td>1</td>\n",
       "    </tr>\n",
       "    <tr>\n",
       "      <th>6</th>\n",
       "      <td>422</td>\n",
       "      <td>John Krasinski is an astronaut.</td>\n",
       "      <td>REFUTES</td>\n",
       "      <td>1</td>\n",
       "    </tr>\n",
       "    <tr>\n",
       "      <th>10</th>\n",
       "      <td>493</td>\n",
       "      <td>Nuuk is a seat of government.</td>\n",
       "      <td>SUPPORTS</td>\n",
       "      <td>2</td>\n",
       "    </tr>\n",
       "    <tr>\n",
       "      <th>11</th>\n",
       "      <td>499</td>\n",
       "      <td>Paul Nicholls is a singer.</td>\n",
       "      <td>REFUTES</td>\n",
       "      <td>1</td>\n",
       "    </tr>\n",
       "    <tr>\n",
       "      <th>14</th>\n",
       "      <td>752</td>\n",
       "      <td>Tottenham Hotspur F.C. is a football club.</td>\n",
       "      <td>SUPPORTS</td>\n",
       "      <td>1</td>\n",
       "    </tr>\n",
       "    <tr>\n",
       "      <th>15</th>\n",
       "      <td>787</td>\n",
       "      <td>Shawn Carlson is only German.</td>\n",
       "      <td>REFUTES</td>\n",
       "      <td>1</td>\n",
       "    </tr>\n",
       "    <tr>\n",
       "      <th>17</th>\n",
       "      <td>833</td>\n",
       "      <td>TakePart is the digital division of Participan...</td>\n",
       "      <td>SUPPORTS</td>\n",
       "      <td>1</td>\n",
       "    </tr>\n",
       "    <tr>\n",
       "      <th>18</th>\n",
       "      <td>972</td>\n",
       "      <td>Stan Beeman is a fictional setting.</td>\n",
       "      <td>REFUTES</td>\n",
       "      <td>1</td>\n",
       "    </tr>\n",
       "    <tr>\n",
       "      <th>19</th>\n",
       "      <td>1035</td>\n",
       "      <td>Anushka Sharma is an actress.</td>\n",
       "      <td>SUPPORTS</td>\n",
       "      <td>1</td>\n",
       "    </tr>\n",
       "  </tbody>\n",
       "</table>\n",
       "</div>"
      ],
      "text/plain": [
       "    index                                              claim     label  isGold\n",
       "1      70        David Packouz was born in February of 1982.  SUPPORTS       1\n",
       "2      97              Craig David is a pop music performer.  SUPPORTS       1\n",
       "6     422                    John Krasinski is an astronaut.   REFUTES       1\n",
       "10    493                      Nuuk is a seat of government.  SUPPORTS       2\n",
       "11    499                         Paul Nicholls is a singer.   REFUTES       1\n",
       "14    752         Tottenham Hotspur F.C. is a football club.  SUPPORTS       1\n",
       "15    787                      Shawn Carlson is only German.   REFUTES       1\n",
       "17    833  TakePart is the digital division of Participan...  SUPPORTS       1\n",
       "18    972                Stan Beeman is a fictional setting.   REFUTES       1\n",
       "19   1035                      Anushka Sharma is an actress.  SUPPORTS       1"
      ]
     },
     "execution_count": 300,
     "metadata": {},
     "output_type": "execute_result"
    }
   ],
   "source": [
    "df_withoutGold.head(10)"
   ]
  },
  {
   "cell_type": "code",
   "execution_count": 301,
   "metadata": {},
   "outputs": [],
   "source": [
    "train_to_use = set(df_withoutGold['index'].values)"
   ]
  },
  {
   "cell_type": "code",
   "execution_count": 302,
   "metadata": {},
   "outputs": [],
   "source": [
    "df = trainset[trainset['index'].isin(train_to_use)]"
   ]
  },
  {
   "cell_type": "code",
   "execution_count": 303,
   "metadata": {},
   "outputs": [
    {
     "data": {
      "text/plain": [
       "21.99920350457985"
      ]
     },
     "execution_count": 303,
     "metadata": {},
     "output_type": "execute_result"
    }
   ],
   "source": [
    "sum(df['isGold'])/len(df)*100"
   ]
  },
  {
   "cell_type": "markdown",
   "metadata": {},
   "source": [
    "### Reading Test File"
   ]
  },
  {
   "cell_type": "code",
   "execution_count": null,
   "metadata": {},
   "outputs": [],
   "source": [
    "testset = pd.read_csv(\"test_set_with_features.csv\")"
   ]
  },
  {
   "cell_type": "markdown",
   "metadata": {},
   "source": [
    "## Modeling"
   ]
  },
  {
   "cell_type": "code",
   "execution_count": null,
   "metadata": {},
   "outputs": [],
   "source": [
    "#have to change this after feature matrix\n",
    "x = df[['percentage','weight','cosine_sim_tfidf','lcs','similarity']]\n",
    "y = df['isGold']\n",
    "y = y.astype('int')"
   ]
  },
  {
   "cell_type": "code",
   "execution_count": 401,
   "metadata": {},
   "outputs": [],
   "source": [
    "#70% train 30% test \n",
    "x_train, x_test,y_train,y_test = train_test_split(x,y,test_size =0.30,random_state =42,stratify=y)"
   ]
  },
  {
   "cell_type": "code",
   "execution_count": 403,
   "metadata": {},
   "outputs": [],
   "source": [
    "#SMOTE\n",
    "from imblearn.over_sampling import SMOTE\n",
    "import numpy as np\n",
    "\n",
    "sm = SMOTE(random_state=12)\n",
    "\n",
    "x_train_res, y_train_res = sm.fit_sample(x_train, y_train)\n",
    "x_test_res, y_test_res = sm.fit_sample(x_test, y_test)"
   ]
  },
  {
   "cell_type": "code",
   "execution_count": null,
   "metadata": {},
   "outputs": [],
   "source": [
    "Counter(y_train_res)"
   ]
  },
  {
   "cell_type": "markdown",
   "metadata": {},
   "source": [
    "#### n_estimators Tuning"
   ]
  },
  {
   "cell_type": "code",
   "execution_count": 405,
   "metadata": {},
   "outputs": [
    {
     "data": {
      "image/png": "[encoded data removed]",
      "text/plain": [
       "<Figure size 432x288 with 1 Axes>"
      ]
     },
     "metadata": {},
     "output_type": "display_data"
    }
   ],
   "source": [
    "n_estimators = [1, 2, 4, 8, 16, 32, 64, 100, 200]\n",
    "train_results = []\n",
    "test_results = []\n",
    "for estimator in n_estimators:\n",
    "    rf = RandomForestClassifier(n_estimators=estimator, n_jobs=-1)\n",
    "    rf.fit(x_train_res, y_train_res)\n",
    "    train_pred = rf.predict(x_train_res)\n",
    "    false_positive_rate, true_positive_rate, thresholds = roc_curve(y_train_res, train_pred)\n",
    "    roc_auc = auc(false_positive_rate, true_positive_rate)\n",
    "    train_results.append(roc_auc)\n",
    "    y_pred = rf.predict(x_test_res)\n",
    "    false_positive_rate, true_positive_rate, thresholds = roc_curve(y_test_res, y_pred)\n",
    "    roc_auc = auc(false_positive_rate, true_positive_rate)\n",
    "    test_results.append(roc_auc)\n",
    "from matplotlib.legend_handler import HandlerLine2D\n",
    "import matplotlib.pyplot as plt\n",
    "%matplotlib inline\n",
    "line1, = plt.plot(n_estimators, train_results, 'b', label=\"Train AUC\")\n",
    "line2, = plt.plot(n_estimators, test_results, 'r', label=\"Test AUC\")\n",
    "plt.legend(handler_map={line1: HandlerLine2D(numpoints=2)})\n",
    "plt.ylabel('AUC score')\n",
    "plt.xlabel('n_estimators')\n",
    "plt.show()\n",
    "\n"
   ]
  },
  {
   "cell_type": "markdown",
   "metadata": {},
   "source": [
    "#### Max Depth"
   ]
  },
  {
   "cell_type": "code",
   "execution_count": 406,
   "metadata": {},
   "outputs": [
    {
     "data": {
      "image/png": "[encoded data removed]",
      "text/plain": [
       "<Figure size 432x288 with 1 Axes>"
      ]
     },
     "metadata": {},
     "output_type": "display_data"
    }
   ],
   "source": [
    "max_depths = np.linspace(1, 32, 32, endpoint=True)\n",
    "train_results = []\n",
    "test_results = []\n",
    "for max_depth in max_depths:\n",
    "    rf = RandomForestClassifier(max_depth=max_depth, n_jobs=-1)\n",
    "    rf.fit(x_train_res, y_train_res)\n",
    "    train_pred = rf.predict(x_train_res)\n",
    "    false_positive_rate, true_positive_rate, thresholds = roc_curve(y_train_res, train_pred)\n",
    "    roc_auc = auc(false_positive_rate, true_positive_rate)\n",
    "    train_results.append(roc_auc)\n",
    "    y_pred = rf.predict(x_test_res)\n",
    "    false_positive_rate, true_positive_rate, thresholds = roc_curve(y_test_res, y_pred)\n",
    "    roc_auc = auc(false_positive_rate, true_positive_rate)\n",
    "    test_results.append(roc_auc)\n",
    "from matplotlib.legend_handler import HandlerLine2D\n",
    "%matplotlib inline\n",
    "line1, = plt.plot(max_depths, train_results, 'b', label=\"Train AUC\")\n",
    "line2, = plt.plot(max_depths, test_results, 'r', label=\"Test AUC\")\n",
    "plt.legend(handler_map={line1: HandlerLine2D(numpoints=2)})\n",
    "plt.ylabel('AUC score')\n",
    "plt.xlabel('Tree depth')\n",
    "plt.show()"
   ]
  },
  {
   "cell_type": "markdown",
   "metadata": {},
   "source": [
    "###  Validation"
   ]
  },
  {
   "cell_type": "code",
   "execution_count": null,
   "metadata": {},
   "outputs": [],
   "source": [
    "from sklearn.ensemble import RandomForestClassifier\n",
    "\n",
    "# Create the model with 100 trees\n",
    "model = RandomForestClassifier(n_estimators=25,\n",
    "                              bootstrap = True,\n",
    "                              max_features = 'auto', max_depth=18)\n",
    "# Fit on training data\n",
    "model.fit(x_train_res, y_train_res)"
   ]
  },
  {
   "cell_type": "code",
   "execution_count": null,
   "metadata": {},
   "outputs": [],
   "source": [
    "y_pred = model.predict(x_test_res)"
   ]
  },
  {
   "cell_type": "code",
   "execution_count": null,
   "metadata": {},
   "outputs": [],
   "source": [
    "from sklearn.metrics import roc_curve, auc\n",
    "false_positive_rate, true_positive_rate, thresholds = roc_curve(y_test_res, y_pred)\n",
    "roc_auc = auc(false_positive_rate, true_positive_rate)\n",
    "roc_auc"
   ]
  },
  {
   "cell_type": "code",
   "execution_count": null,
   "metadata": {},
   "outputs": [],
   "source": [
    "print(classification_report(y_test_res, y_pred))\n",
    "print(model.score(x_test_res,y_test_res))"
   ]
  },
  {
   "cell_type": "code",
   "execution_count": 415,
   "metadata": {},
   "outputs": [],
   "source": [
    "#from testing set\n",
    "x_features = test_set[['percentage','weight','cosine_sim_tfidf','lcs','similarity']]\n"
   ]
  },
  {
   "cell_type": "markdown",
   "metadata": {},
   "source": [
    "### Testing with Random Forest"
   ]
  },
  {
   "cell_type": "code",
   "execution_count": 393,
   "metadata": {},
   "outputs": [
    {
     "data": {
      "text/plain": [
       "RandomForestClassifier(bootstrap=True, class_weight=None, criterion='gini',\n",
       "            max_depth=10, max_features='auto', max_leaf_nodes=None,\n",
       "            min_impurity_decrease=0.0, min_impurity_split=None,\n",
       "            min_samples_leaf=1, min_samples_split=2,\n",
       "            min_weight_fraction_leaf=0.0, n_estimators=28, n_jobs=1,\n",
       "            oob_score=False, random_state=None, verbose=0,\n",
       "            warm_start=False)"
      ]
     },
     "execution_count": 393,
     "metadata": {},
     "output_type": "execute_result"
    }
   ],
   "source": [
    "from sklearn.ensemble import RandomForestClassifier\n",
    "model = RandomForestClassifier(n_estimators=28,\n",
    "                              bootstrap = True,\n",
    "                              max_features = 'auto', max_depth=10)"
   ]
  },
  {
   "cell_type": "code",
   "execution_count": 416,
   "metadata": {},
   "outputs": [],
   "source": [
    "y_prediction = model.predict(x_features)"
   ]
  },
  {
   "cell_type": "code",
   "execution_count": 418,
   "metadata": {},
   "outputs": [],
   "source": [
    "test_set[\"response\"] = y_prediction"
   ]
  },
  {
   "cell_type": "code",
   "execution_count": 420,
   "metadata": {},
   "outputs": [],
   "source": [
    "gold_MASK = y_prediction.astype(bool)"
   ]
  },
  {
   "cell_type": "code",
   "execution_count": 421,
   "metadata": {},
   "outputs": [],
   "source": [
    "selected_sentences = test_set[gold_MASK]"
   ]
  },
  {
   "cell_type": "code",
   "execution_count": 426,
   "metadata": {},
   "outputs": [],
   "source": [
    "selected_sentences.to_csv('testing_respone_is_one.csv')"
   ]
  },
  {
   "cell_type": "code",
   "execution_count": 550,
   "metadata": {},
   "outputs": [],
   "source": [
    "sub = \"testing_respone_is_one.csv\"\n",
    "testing_features_df = pd.read_csv((sub)) "
   ]
  },
  {
   "cell_type": "code",
   "execution_count": 552,
   "metadata": {},
   "outputs": [],
   "source": [
    "testing_features_df = testing_features_df.drop(['cosine_sim_tfidf','jaccard_sim','lcs','ngram','spaCy_similarity','text_topk','ir_lookup','percentage','weight'], axis=1)"
   ]
  },
  {
   "cell_type": "code",
   "execution_count": 553,
   "metadata": {},
   "outputs": [],
   "source": [
    "testing_features_df = testing_features_df.drop(['Unnamed: 0'],axis=1)"
   ]
  },
  {
   "cell_type": "code",
   "execution_count": 554,
   "metadata": {},
   "outputs": [
    {
     "data": {
      "text/html": [
       "<div>\n",
       "<style scoped>\n",
       "    .dataframe tbody tr th:only-of-type {\n",
       "        vertical-align: middle;\n",
       "    }\n",
       "\n",
       "    .dataframe tbody tr th {\n",
       "        vertical-align: top;\n",
       "    }\n",
       "\n",
       "    .dataframe thead th {\n",
       "        text-align: right;\n",
       "    }\n",
       "</style>\n",
       "<table border=\"1\" class=\"dataframe\">\n",
       "  <thead>\n",
       "    <tr style=\"text-align: right;\">\n",
       "      <th></th>\n",
       "      <th>claim</th>\n",
       "      <th>claim_id</th>\n",
       "      <th>evidence_topk</th>\n",
       "      <th>response</th>\n",
       "    </tr>\n",
       "  </thead>\n",
       "  <tbody>\n",
       "    <tr>\n",
       "      <th>0</th>\n",
       "      <td>Raven-Symoné is an Anglican.</td>\n",
       "      <td>110000</td>\n",
       "      <td>['Raven-Symoné', '0']</td>\n",
       "      <td>1</td>\n",
       "    </tr>\n",
       "    <tr>\n",
       "      <th>1</th>\n",
       "      <td>Solanum contains plants with ornamental flowers.</td>\n",
       "      <td>16079</td>\n",
       "      <td>['Solanum', '1']</td>\n",
       "      <td>1</td>\n",
       "    </tr>\n",
       "    <tr>\n",
       "      <th>2</th>\n",
       "      <td>Chadwick Boseman portrayed a film character.</td>\n",
       "      <td>226458</td>\n",
       "      <td>['Chadwick_Boseman', '1']</td>\n",
       "      <td>1</td>\n",
       "    </tr>\n",
       "    <tr>\n",
       "      <th>3</th>\n",
       "      <td>Ghost is a film.</td>\n",
       "      <td>132649</td>\n",
       "      <td>['Ghost_Dance_-LRB-film-RRB-', '0']</td>\n",
       "      <td>1</td>\n",
       "    </tr>\n",
       "    <tr>\n",
       "      <th>4</th>\n",
       "      <td>Ghost is a film.</td>\n",
       "      <td>132649</td>\n",
       "      <td>['Nine_Girls_and_a_Ghost', '0']</td>\n",
       "      <td>1</td>\n",
       "    </tr>\n",
       "    <tr>\n",
       "      <th>5</th>\n",
       "      <td>Superhuman abilities may result from antelope ...</td>\n",
       "      <td>51262</td>\n",
       "      <td>['Superhuman', '6']</td>\n",
       "      <td>1</td>\n",
       "    </tr>\n",
       "    <tr>\n",
       "      <th>6</th>\n",
       "      <td>Superhuman abilities may result from antelope ...</td>\n",
       "      <td>51262</td>\n",
       "      <td>['Superhuman', '2']</td>\n",
       "      <td>1</td>\n",
       "    </tr>\n",
       "    <tr>\n",
       "      <th>7</th>\n",
       "      <td>Superhuman abilities may result from antelope ...</td>\n",
       "      <td>51262</td>\n",
       "      <td>['Emma_Frost', '5']</td>\n",
       "      <td>1</td>\n",
       "    </tr>\n",
       "    <tr>\n",
       "      <th>8</th>\n",
       "      <td>Superhuman abilities may result from antelope ...</td>\n",
       "      <td>51262</td>\n",
       "      <td>['X-Men', '5']</td>\n",
       "      <td>1</td>\n",
       "    </tr>\n",
       "    <tr>\n",
       "      <th>9</th>\n",
       "      <td>Superhuman abilities may result from antelope ...</td>\n",
       "      <td>51262</td>\n",
       "      <td>['Thermoregulation_in_humans', '4']</td>\n",
       "      <td>1</td>\n",
       "    </tr>\n",
       "  </tbody>\n",
       "</table>\n",
       "</div>"
      ],
      "text/plain": [
       "                                               claim  claim_id  \\\n",
       "0                       Raven-Symoné is an Anglican.    110000   \n",
       "1   Solanum contains plants with ornamental flowers.     16079   \n",
       "2       Chadwick Boseman portrayed a film character.    226458   \n",
       "3                                   Ghost is a film.    132649   \n",
       "4                                   Ghost is a film.    132649   \n",
       "5  Superhuman abilities may result from antelope ...     51262   \n",
       "6  Superhuman abilities may result from antelope ...     51262   \n",
       "7  Superhuman abilities may result from antelope ...     51262   \n",
       "8  Superhuman abilities may result from antelope ...     51262   \n",
       "9  Superhuman abilities may result from antelope ...     51262   \n",
       "\n",
       "                         evidence_topk  response  \n",
       "0                ['Raven-Symoné', '0']         1  \n",
       "1                     ['Solanum', '1']         1  \n",
       "2            ['Chadwick_Boseman', '1']         1  \n",
       "3  ['Ghost_Dance_-LRB-film-RRB-', '0']         1  \n",
       "4      ['Nine_Girls_and_a_Ghost', '0']         1  \n",
       "5                  ['Superhuman', '6']         1  \n",
       "6                  ['Superhuman', '2']         1  \n",
       "7                  ['Emma_Frost', '5']         1  \n",
       "8                       ['X-Men', '5']         1  \n",
       "9  ['Thermoregulation_in_humans', '4']         1  "
      ]
     },
     "execution_count": 554,
     "metadata": {},
     "output_type": "execute_result"
    }
   ],
   "source": [
    "testing_features_df.head(10)"
   ]
  },
  {
   "cell_type": "code",
   "execution_count": 555,
   "metadata": {},
   "outputs": [],
   "source": [
    "def cleanItem(string):\n",
    "    array = string.split(', ')\n",
    "    return [str(array[0][2:-1]), int(array[1][1:-2])]"
   ]
  },
  {
   "cell_type": "code",
   "execution_count": 556,
   "metadata": {},
   "outputs": [],
   "source": [
    "testing_features_df['evidence_topk']= testing_features_df['evidence_topk'].apply(lambda x:cleanItem(x))"
   ]
  },
  {
   "cell_type": "code",
   "execution_count": 545,
   "metadata": {},
   "outputs": [
    {
     "data": {
      "text/plain": [
       "claim            25292\n",
       "claim_id         25292\n",
       "evidence_topk    25292\n",
       "response         25292\n",
       "dtype: int64"
      ]
     },
     "execution_count": 545,
     "metadata": {},
     "output_type": "execute_result"
    }
   ],
   "source": [
    "testing_features_df.count()"
   ]
  },
  {
   "cell_type": "code",
   "execution_count": 557,
   "metadata": {},
   "outputs": [
    {
     "data": {
      "text/html": [
       "<div>\n",
       "<style scoped>\n",
       "    .dataframe tbody tr th:only-of-type {\n",
       "        vertical-align: middle;\n",
       "    }\n",
       "\n",
       "    .dataframe tbody tr th {\n",
       "        vertical-align: top;\n",
       "    }\n",
       "\n",
       "    .dataframe thead th {\n",
       "        text-align: right;\n",
       "    }\n",
       "</style>\n",
       "<table border=\"1\" class=\"dataframe\">\n",
       "  <thead>\n",
       "    <tr style=\"text-align: right;\">\n",
       "      <th></th>\n",
       "      <th>claim</th>\n",
       "      <th>claim_id</th>\n",
       "      <th>evidence_topk</th>\n",
       "      <th>response</th>\n",
       "    </tr>\n",
       "  </thead>\n",
       "  <tbody>\n",
       "    <tr>\n",
       "      <th>0</th>\n",
       "      <td>Raven-Symoné is an Anglican.</td>\n",
       "      <td>110000</td>\n",
       "      <td>[Raven-Symoné, 0]</td>\n",
       "      <td>1</td>\n",
       "    </tr>\n",
       "    <tr>\n",
       "      <th>1</th>\n",
       "      <td>Solanum contains plants with ornamental flowers.</td>\n",
       "      <td>16079</td>\n",
       "      <td>[Solanum, 1]</td>\n",
       "      <td>1</td>\n",
       "    </tr>\n",
       "    <tr>\n",
       "      <th>2</th>\n",
       "      <td>Chadwick Boseman portrayed a film character.</td>\n",
       "      <td>226458</td>\n",
       "      <td>[Chadwick_Boseman, 1]</td>\n",
       "      <td>1</td>\n",
       "    </tr>\n",
       "    <tr>\n",
       "      <th>3</th>\n",
       "      <td>Ghost is a film.</td>\n",
       "      <td>132649</td>\n",
       "      <td>[Ghost_Dance_-LRB-film-RRB-, 0]</td>\n",
       "      <td>1</td>\n",
       "    </tr>\n",
       "    <tr>\n",
       "      <th>4</th>\n",
       "      <td>Ghost is a film.</td>\n",
       "      <td>132649</td>\n",
       "      <td>[Nine_Girls_and_a_Ghost, 0]</td>\n",
       "      <td>1</td>\n",
       "    </tr>\n",
       "  </tbody>\n",
       "</table>\n",
       "</div>"
      ],
      "text/plain": [
       "                                              claim  claim_id  \\\n",
       "0                      Raven-Symoné is an Anglican.    110000   \n",
       "1  Solanum contains plants with ornamental flowers.     16079   \n",
       "2      Chadwick Boseman portrayed a film character.    226458   \n",
       "3                                  Ghost is a film.    132649   \n",
       "4                                  Ghost is a film.    132649   \n",
       "\n",
       "                     evidence_topk  response  \n",
       "0                [Raven-Symoné, 0]         1  \n",
       "1                     [Solanum, 1]         1  \n",
       "2            [Chadwick_Boseman, 1]         1  \n",
       "3  [Ghost_Dance_-LRB-film-RRB-, 0]         1  \n",
       "4      [Nine_Girls_and_a_Ghost, 0]         1  "
      ]
     },
     "execution_count": 557,
     "metadata": {},
     "output_type": "execute_result"
    }
   ],
   "source": [
    "testing_features_df.head()"
   ]
  },
  {
   "cell_type": "code",
   "execution_count": 560,
   "metadata": {},
   "outputs": [
    {
     "data": {
      "text/html": [
       "<div>\n",
       "<style scoped>\n",
       "    .dataframe tbody tr th:only-of-type {\n",
       "        vertical-align: middle;\n",
       "    }\n",
       "\n",
       "    .dataframe tbody tr th {\n",
       "        vertical-align: top;\n",
       "    }\n",
       "\n",
       "    .dataframe thead th {\n",
       "        text-align: right;\n",
       "    }\n",
       "</style>\n",
       "<table border=\"1\" class=\"dataframe\">\n",
       "  <thead>\n",
       "    <tr style=\"text-align: right;\">\n",
       "      <th></th>\n",
       "      <th>claim</th>\n",
       "      <th>evidence</th>\n",
       "    </tr>\n",
       "  </thead>\n",
       "  <tbody>\n",
       "    <tr>\n",
       "      <th>11</th>\n",
       "      <td>Carlos Santana formed Santana in 1966.</td>\n",
       "      <td>[[Santana_-LRB-band-RRB-, 0], [Carlos_Santana_...</td>\n",
       "    </tr>\n",
       "    <tr>\n",
       "      <th>24</th>\n",
       "      <td>The filming of Dilwale Dulhania Le Jayenge end...</td>\n",
       "      <td>[[Dilwale_Dulhania_Le_Jayenge, 15], [List_of_r...</td>\n",
       "    </tr>\n",
       "    <tr>\n",
       "      <th>69</th>\n",
       "      <td>David Packouz was born in 1982.</td>\n",
       "      <td>[[David_Packouz, 0]]</td>\n",
       "    </tr>\n",
       "    <tr>\n",
       "      <th>77</th>\n",
       "      <td>Nicholas Brody is also called Nick.</td>\n",
       "      <td>[[Nicholas_Brody, 1]]</td>\n",
       "    </tr>\n",
       "    <tr>\n",
       "      <th>83</th>\n",
       "      <td>Honeymoon is the third major-label record by L...</td>\n",
       "      <td>[[Honeymoon_-LRB-Lana_Del_Rey_album-RRB-, 0], ...</td>\n",
       "    </tr>\n",
       "  </tbody>\n",
       "</table>\n",
       "</div>"
      ],
      "text/plain": [
       "                                                claim  \\\n",
       "11             Carlos Santana formed Santana in 1966.   \n",
       "24  The filming of Dilwale Dulhania Le Jayenge end...   \n",
       "69                    David Packouz was born in 1982.   \n",
       "77                Nicholas Brody is also called Nick.   \n",
       "83  Honeymoon is the third major-label record by L...   \n",
       "\n",
       "                                             evidence  \n",
       "11  [[Santana_-LRB-band-RRB-, 0], [Carlos_Santana_...  \n",
       "24  [[Dilwale_Dulhania_Le_Jayenge, 15], [List_of_r...  \n",
       "69                               [[David_Packouz, 0]]  \n",
       "77                              [[Nicholas_Brody, 1]]  \n",
       "83  [[Honeymoon_-LRB-Lana_Del_Rey_album-RRB-, 0], ...  "
      ]
     },
     "execution_count": 560,
     "metadata": {},
     "output_type": "execute_result"
    }
   ],
   "source": [
    "#to merge all title_id and formating dataframe\n",
    "model1_response_one= testing_features_df.groupby(['claim_id','claim']).evidence_topk.apply(list).reset_index()\n",
    "model1_response_one.rename(columns={\"evidence_topk\": \"evidence\"}, inplace= True)\n",
    "model1_response_one = model1_response_one.set_index('claim_id')\n",
    "del model1_response_one.index.name\n",
    "model1_response_one.head()"
   ]
  },
  {
   "cell_type": "code",
   "execution_count": 561,
   "metadata": {},
   "outputs": [
    {
     "data": {
      "text/html": [
       "<div>\n",
       "<style scoped>\n",
       "    .dataframe tbody tr th:only-of-type {\n",
       "        vertical-align: middle;\n",
       "    }\n",
       "\n",
       "    .dataframe tbody tr th {\n",
       "        vertical-align: top;\n",
       "    }\n",
       "\n",
       "    .dataframe thead th {\n",
       "        text-align: right;\n",
       "    }\n",
       "</style>\n",
       "<table border=\"1\" class=\"dataframe\">\n",
       "  <thead>\n",
       "    <tr style=\"text-align: right;\">\n",
       "      <th></th>\n",
       "      <th>claim</th>\n",
       "      <th>evidence</th>\n",
       "    </tr>\n",
       "  </thead>\n",
       "  <tbody>\n",
       "    <tr>\n",
       "      <th>11</th>\n",
       "      <td>Carlos Santana formed Santana in 1966.</td>\n",
       "      <td>[[Santana_-LRB-band-RRB-, 0], [Carlos_Santana_...</td>\n",
       "    </tr>\n",
       "    <tr>\n",
       "      <th>24</th>\n",
       "      <td>The filming of Dilwale Dulhania Le Jayenge end...</td>\n",
       "      <td>[[Dilwale_Dulhania_Le_Jayenge, 15], [List_of_r...</td>\n",
       "    </tr>\n",
       "    <tr>\n",
       "      <th>69</th>\n",
       "      <td>David Packouz was born in 1982.</td>\n",
       "      <td>[[David_Packouz, 0]]</td>\n",
       "    </tr>\n",
       "    <tr>\n",
       "      <th>77</th>\n",
       "      <td>Nicholas Brody is also called Nick.</td>\n",
       "      <td>[[Nicholas_Brody, 1]]</td>\n",
       "    </tr>\n",
       "    <tr>\n",
       "      <th>83</th>\n",
       "      <td>Honeymoon is the third major-label record by L...</td>\n",
       "      <td>[[Honeymoon_-LRB-Lana_Del_Rey_album-RRB-, 0], ...</td>\n",
       "    </tr>\n",
       "  </tbody>\n",
       "</table>\n",
       "</div>"
      ],
      "text/plain": [
       "                                                claim  \\\n",
       "11             Carlos Santana formed Santana in 1966.   \n",
       "24  The filming of Dilwale Dulhania Le Jayenge end...   \n",
       "69                    David Packouz was born in 1982.   \n",
       "77                Nicholas Brody is also called Nick.   \n",
       "83  Honeymoon is the third major-label record by L...   \n",
       "\n",
       "                                             evidence  \n",
       "11  [[Santana_-LRB-band-RRB-, 0], [Carlos_Santana_...  \n",
       "24  [[Dilwale_Dulhania_Le_Jayenge, 15], [List_of_r...  \n",
       "69                               [[David_Packouz, 0]]  \n",
       "77                              [[Nicholas_Brody, 1]]  \n",
       "83  [[Honeymoon_-LRB-Lana_Del_Rey_album-RRB-, 0], ...  "
      ]
     },
     "execution_count": 561,
     "metadata": {},
     "output_type": "execute_result"
    }
   ],
   "source": [
    "model1_response_one.head()"
   ]
  },
  {
   "cell_type": "code",
   "execution_count": 563,
   "metadata": {},
   "outputs": [],
   "source": [
    "#rename to join later \n",
    "model1_response_one.rename(columns={\"claim\": \"claim1\"}, inplace= True)"
   ]
  },
  {
   "cell_type": "code",
   "execution_count": 564,
   "metadata": {},
   "outputs": [
    {
     "data": {
      "text/html": [
       "<div>\n",
       "<style scoped>\n",
       "    .dataframe tbody tr th:only-of-type {\n",
       "        vertical-align: middle;\n",
       "    }\n",
       "\n",
       "    .dataframe tbody tr th {\n",
       "        vertical-align: top;\n",
       "    }\n",
       "\n",
       "    .dataframe thead th {\n",
       "        text-align: right;\n",
       "    }\n",
       "</style>\n",
       "<table border=\"1\" class=\"dataframe\">\n",
       "  <thead>\n",
       "    <tr style=\"text-align: right;\">\n",
       "      <th></th>\n",
       "      <th>claim</th>\n",
       "    </tr>\n",
       "  </thead>\n",
       "  <tbody>\n",
       "    <tr>\n",
       "      <th>110000</th>\n",
       "      <td>Raven-Symoné is an Anglican.</td>\n",
       "    </tr>\n",
       "    <tr>\n",
       "      <th>73397</th>\n",
       "      <td>Temple of the Dog celebrated the 37th annivers...</td>\n",
       "    </tr>\n",
       "    <tr>\n",
       "      <th>16079</th>\n",
       "      <td>Solanum contains plants with ornamental flowers.</td>\n",
       "    </tr>\n",
       "    <tr>\n",
       "      <th>114789</th>\n",
       "      <td>A Good Day to Die Hard is part of the Library ...</td>\n",
       "    </tr>\n",
       "    <tr>\n",
       "      <th>126871</th>\n",
       "      <td>The Icelandic Coast Guard is also known as Gae...</td>\n",
       "    </tr>\n",
       "  </tbody>\n",
       "</table>\n",
       "</div>"
      ],
      "text/plain": [
       "                                                    claim\n",
       "110000                       Raven-Symoné is an Anglican.\n",
       "73397   Temple of the Dog celebrated the 37th annivers...\n",
       "16079    Solanum contains plants with ornamental flowers.\n",
       "114789  A Good Day to Die Hard is part of the Library ...\n",
       "126871  The Icelandic Coast Guard is also known as Gae..."
      ]
     },
     "execution_count": 564,
     "metadata": {},
     "output_type": "execute_result"
    }
   ],
   "source": [
    "# upload test_unlabelled to compare with model outputs\n",
    "test_filepath = \"test-unlabelled.json\"\n",
    "test_unlabelled_file = pd.read_json(open(test_filepath),orient='index') \n",
    "test_unlabelled_file.head()"
   ]
  },
  {
   "cell_type": "code",
   "execution_count": 565,
   "metadata": {},
   "outputs": [
    {
     "data": {
      "text/plain": [
       "claim       14997\n",
       "evidence     9645\n",
       "dtype: int64"
      ]
     },
     "execution_count": 565,
     "metadata": {},
     "output_type": "execute_result"
    }
   ],
   "source": [
    "#comparing model and test_unlabelled\n",
    "model_1= test_unlabelled_file.join(model1_response_one, how = 'left')\n",
    "model_1= model1_rf.drop(['claim1'], axis=1)\n",
    "model_1.count()"
   ]
  },
  {
   "cell_type": "code",
   "execution_count": 566,
   "metadata": {},
   "outputs": [
    {
     "data": {
      "text/plain": [
       "claim       14997\n",
       "evidence     9645\n",
       "dtype: int64"
      ]
     },
     "execution_count": 566,
     "metadata": {},
     "output_type": "execute_result"
    }
   ],
   "source": [
    "model_1.count()"
   ]
  },
  {
   "cell_type": "code",
   "execution_count": 567,
   "metadata": {},
   "outputs": [],
   "source": [
    "#add label = Support to all\n",
    "model_1['label']= 'SUPPORTS'"
   ]
  },
  {
   "cell_type": "code",
   "execution_count": 569,
   "metadata": {},
   "outputs": [
    {
     "data": {
      "text/html": [
       "<div>\n",
       "<style scoped>\n",
       "    .dataframe tbody tr th:only-of-type {\n",
       "        vertical-align: middle;\n",
       "    }\n",
       "\n",
       "    .dataframe tbody tr th {\n",
       "        vertical-align: top;\n",
       "    }\n",
       "\n",
       "    .dataframe thead th {\n",
       "        text-align: right;\n",
       "    }\n",
       "</style>\n",
       "<table border=\"1\" class=\"dataframe\">\n",
       "  <thead>\n",
       "    <tr style=\"text-align: right;\">\n",
       "      <th></th>\n",
       "      <th>claim</th>\n",
       "      <th>evidence</th>\n",
       "      <th>label</th>\n",
       "    </tr>\n",
       "  </thead>\n",
       "  <tbody>\n",
       "    <tr>\n",
       "      <th>110000</th>\n",
       "      <td>Raven-Symoné is an Anglican.</td>\n",
       "      <td>[[Raven-Symoné, 0], [Raven-Symoné, 0], [Raven-...</td>\n",
       "      <td>SUPPORTS</td>\n",
       "    </tr>\n",
       "    <tr>\n",
       "      <th>73397</th>\n",
       "      <td>Temple of the Dog celebrated the 37th annivers...</td>\n",
       "      <td>NaN</td>\n",
       "      <td>SUPPORTS</td>\n",
       "    </tr>\n",
       "    <tr>\n",
       "      <th>16079</th>\n",
       "      <td>Solanum contains plants with ornamental flowers.</td>\n",
       "      <td>[[Solanum, 1], [Solanum, 1], [Solanum, 1], [So...</td>\n",
       "      <td>SUPPORTS</td>\n",
       "    </tr>\n",
       "    <tr>\n",
       "      <th>114789</th>\n",
       "      <td>A Good Day to Die Hard is part of the Library ...</td>\n",
       "      <td>NaN</td>\n",
       "      <td>SUPPORTS</td>\n",
       "    </tr>\n",
       "    <tr>\n",
       "      <th>126871</th>\n",
       "      <td>The Icelandic Coast Guard is also known as Gae...</td>\n",
       "      <td>NaN</td>\n",
       "      <td>SUPPORTS</td>\n",
       "    </tr>\n",
       "  </tbody>\n",
       "</table>\n",
       "</div>"
      ],
      "text/plain": [
       "                                                    claim  \\\n",
       "110000                       Raven-Symoné is an Anglican.   \n",
       "73397   Temple of the Dog celebrated the 37th annivers...   \n",
       "16079    Solanum contains plants with ornamental flowers.   \n",
       "114789  A Good Day to Die Hard is part of the Library ...   \n",
       "126871  The Icelandic Coast Guard is also known as Gae...   \n",
       "\n",
       "                                                 evidence     label  \n",
       "110000  [[Raven-Symoné, 0], [Raven-Symoné, 0], [Raven-...  SUPPORTS  \n",
       "73397                                                 NaN  SUPPORTS  \n",
       "16079   [[Solanum, 1], [Solanum, 1], [Solanum, 1], [So...  SUPPORTS  \n",
       "114789                                                NaN  SUPPORTS  \n",
       "126871                                                NaN  SUPPORTS  "
      ]
     },
     "execution_count": 569,
     "metadata": {},
     "output_type": "execute_result"
    }
   ],
   "source": [
    "model_1.head()"
   ]
  },
  {
   "cell_type": "code",
   "execution_count": 589,
   "metadata": {},
   "outputs": [],
   "source": [
    "def cleanNAN(string):\n",
    "    try:\n",
    "        if np.isnan(string)==True:\n",
    "            return []\n",
    "    except:\n",
    "        return string"
   ]
  },
  {
   "cell_type": "code",
   "execution_count": 590,
   "metadata": {},
   "outputs": [],
   "source": [
    "#add label = NOT ENOUGH INFO\n",
    "model_1['evidence'] = model_1['evidence'].apply(cleanNAN)"
   ]
  },
  {
   "cell_type": "code",
   "execution_count": 591,
   "metadata": {},
   "outputs": [
    {
     "data": {
      "text/html": [
       "<div>\n",
       "<style scoped>\n",
       "    .dataframe tbody tr th:only-of-type {\n",
       "        vertical-align: middle;\n",
       "    }\n",
       "\n",
       "    .dataframe tbody tr th {\n",
       "        vertical-align: top;\n",
       "    }\n",
       "\n",
       "    .dataframe thead th {\n",
       "        text-align: right;\n",
       "    }\n",
       "</style>\n",
       "<table border=\"1\" class=\"dataframe\">\n",
       "  <thead>\n",
       "    <tr style=\"text-align: right;\">\n",
       "      <th></th>\n",
       "      <th>claim</th>\n",
       "      <th>evidence</th>\n",
       "      <th>label</th>\n",
       "    </tr>\n",
       "  </thead>\n",
       "  <tbody>\n",
       "    <tr>\n",
       "      <th>110000</th>\n",
       "      <td>Raven-Symoné is an Anglican.</td>\n",
       "      <td>[[Raven-Symoné, 0], [Raven-Symoné, 0], [Raven-...</td>\n",
       "      <td>SUPPORTS</td>\n",
       "    </tr>\n",
       "    <tr>\n",
       "      <th>73397</th>\n",
       "      <td>Temple of the Dog celebrated the 37th annivers...</td>\n",
       "      <td>[]</td>\n",
       "      <td>SUPPORTS</td>\n",
       "    </tr>\n",
       "    <tr>\n",
       "      <th>16079</th>\n",
       "      <td>Solanum contains plants with ornamental flowers.</td>\n",
       "      <td>[[Solanum, 1], [Solanum, 1], [Solanum, 1], [So...</td>\n",
       "      <td>SUPPORTS</td>\n",
       "    </tr>\n",
       "    <tr>\n",
       "      <th>114789</th>\n",
       "      <td>A Good Day to Die Hard is part of the Library ...</td>\n",
       "      <td>[]</td>\n",
       "      <td>SUPPORTS</td>\n",
       "    </tr>\n",
       "    <tr>\n",
       "      <th>126871</th>\n",
       "      <td>The Icelandic Coast Guard is also known as Gae...</td>\n",
       "      <td>[]</td>\n",
       "      <td>SUPPORTS</td>\n",
       "    </tr>\n",
       "  </tbody>\n",
       "</table>\n",
       "</div>"
      ],
      "text/plain": [
       "                                                    claim  \\\n",
       "110000                       Raven-Symoné is an Anglican.   \n",
       "73397   Temple of the Dog celebrated the 37th annivers...   \n",
       "16079    Solanum contains plants with ornamental flowers.   \n",
       "114789  A Good Day to Die Hard is part of the Library ...   \n",
       "126871  The Icelandic Coast Guard is also known as Gae...   \n",
       "\n",
       "                                                 evidence     label  \n",
       "110000  [[Raven-Symoné, 0], [Raven-Symoné, 0], [Raven-...  SUPPORTS  \n",
       "73397                                                  []  SUPPORTS  \n",
       "16079   [[Solanum, 1], [Solanum, 1], [Solanum, 1], [So...  SUPPORTS  \n",
       "114789                                                 []  SUPPORTS  \n",
       "126871                                                 []  SUPPORTS  "
      ]
     },
     "execution_count": 591,
     "metadata": {},
     "output_type": "execute_result"
    }
   ],
   "source": [
    "model_1.head()"
   ]
  },
  {
   "cell_type": "code",
   "execution_count": 600,
   "metadata": {},
   "outputs": [],
   "source": [
    "model_1['label']= model_1['evidence'].apply(lambda x: 'NOT ENOUGH INFO' if len(x)==0 else 'SUPPORTS')"
   ]
  },
  {
   "cell_type": "code",
   "execution_count": 601,
   "metadata": {},
   "outputs": [
    {
     "data": {
      "text/html": [
       "<div>\n",
       "<style scoped>\n",
       "    .dataframe tbody tr th:only-of-type {\n",
       "        vertical-align: middle;\n",
       "    }\n",
       "\n",
       "    .dataframe tbody tr th {\n",
       "        vertical-align: top;\n",
       "    }\n",
       "\n",
       "    .dataframe thead th {\n",
       "        text-align: right;\n",
       "    }\n",
       "</style>\n",
       "<table border=\"1\" class=\"dataframe\">\n",
       "  <thead>\n",
       "    <tr style=\"text-align: right;\">\n",
       "      <th></th>\n",
       "      <th>claim</th>\n",
       "      <th>evidence</th>\n",
       "      <th>label</th>\n",
       "    </tr>\n",
       "  </thead>\n",
       "  <tbody>\n",
       "    <tr>\n",
       "      <th>110000</th>\n",
       "      <td>Raven-Symoné is an Anglican.</td>\n",
       "      <td>[[Raven-Symoné, 0], [Raven-Symoné, 0], [Raven-...</td>\n",
       "      <td>SUPPORTS</td>\n",
       "    </tr>\n",
       "    <tr>\n",
       "      <th>73397</th>\n",
       "      <td>Temple of the Dog celebrated the 37th annivers...</td>\n",
       "      <td>[]</td>\n",
       "      <td>NOT ENOUGH INFO</td>\n",
       "    </tr>\n",
       "    <tr>\n",
       "      <th>16079</th>\n",
       "      <td>Solanum contains plants with ornamental flowers.</td>\n",
       "      <td>[[Solanum, 1], [Solanum, 1], [Solanum, 1], [So...</td>\n",
       "      <td>SUPPORTS</td>\n",
       "    </tr>\n",
       "    <tr>\n",
       "      <th>114789</th>\n",
       "      <td>A Good Day to Die Hard is part of the Library ...</td>\n",
       "      <td>[]</td>\n",
       "      <td>NOT ENOUGH INFO</td>\n",
       "    </tr>\n",
       "    <tr>\n",
       "      <th>126871</th>\n",
       "      <td>The Icelandic Coast Guard is also known as Gae...</td>\n",
       "      <td>[]</td>\n",
       "      <td>NOT ENOUGH INFO</td>\n",
       "    </tr>\n",
       "  </tbody>\n",
       "</table>\n",
       "</div>"
      ],
      "text/plain": [
       "                                                    claim  \\\n",
       "110000                       Raven-Symoné is an Anglican.   \n",
       "73397   Temple of the Dog celebrated the 37th annivers...   \n",
       "16079    Solanum contains plants with ornamental flowers.   \n",
       "114789  A Good Day to Die Hard is part of the Library ...   \n",
       "126871  The Icelandic Coast Guard is also known as Gae...   \n",
       "\n",
       "                                                 evidence            label  \n",
       "110000  [[Raven-Symoné, 0], [Raven-Symoné, 0], [Raven-...         SUPPORTS  \n",
       "73397                                                  []  NOT ENOUGH INFO  \n",
       "16079   [[Solanum, 1], [Solanum, 1], [Solanum, 1], [So...         SUPPORTS  \n",
       "114789                                                 []  NOT ENOUGH INFO  \n",
       "126871                                                 []  NOT ENOUGH INFO  "
      ]
     },
     "execution_count": 601,
     "metadata": {},
     "output_type": "execute_result"
    }
   ],
   "source": [
    "model_1.head()"
   ]
  },
  {
   "cell_type": "code",
   "execution_count": 602,
   "metadata": {},
   "outputs": [
    {
     "data": {
      "text/plain": [
       "claim       5352\n",
       "evidence    5352\n",
       "label       5352\n",
       "dtype: int64"
      ]
     },
     "execution_count": 602,
     "metadata": {},
     "output_type": "execute_result"
    }
   ],
   "source": [
    "not_enough_data = model_1[model1_rf.label == \"NOT ENOUGH INFO\"] \n",
    "not_enough_data.count()"
   ]
  },
  {
   "cell_type": "code",
   "execution_count": 603,
   "metadata": {},
   "outputs": [],
   "source": [
    "# to json \n",
    "model_1.to_json('model_1_rf.json', orient='index') "
   ]
  },
  {
   "cell_type": "code",
   "execution_count": 604,
   "metadata": {},
   "outputs": [
    {
     "data": {
      "text/html": [
       "<div>\n",
       "<style scoped>\n",
       "    .dataframe tbody tr th:only-of-type {\n",
       "        vertical-align: middle;\n",
       "    }\n",
       "\n",
       "    .dataframe tbody tr th {\n",
       "        vertical-align: top;\n",
       "    }\n",
       "\n",
       "    .dataframe thead th {\n",
       "        text-align: right;\n",
       "    }\n",
       "</style>\n",
       "<table border=\"1\" class=\"dataframe\">\n",
       "  <thead>\n",
       "    <tr style=\"text-align: right;\">\n",
       "      <th></th>\n",
       "      <th>claim</th>\n",
       "      <th>evidence</th>\n",
       "      <th>label</th>\n",
       "    </tr>\n",
       "  </thead>\n",
       "  <tbody>\n",
       "    <tr>\n",
       "      <th>110000</th>\n",
       "      <td>Raven-Symoné is an Anglican.</td>\n",
       "      <td>[[Raven-Symoné, 0], [Raven-Symoné, 0], [Raven-...</td>\n",
       "      <td>SUPPORTS</td>\n",
       "    </tr>\n",
       "    <tr>\n",
       "      <th>73397</th>\n",
       "      <td>Temple of the Dog celebrated the 37th annivers...</td>\n",
       "      <td>[]</td>\n",
       "      <td>NOT ENOUGH INFO</td>\n",
       "    </tr>\n",
       "    <tr>\n",
       "      <th>16079</th>\n",
       "      <td>Solanum contains plants with ornamental flowers.</td>\n",
       "      <td>[[Solanum, 1], [Solanum, 1], [Solanum, 1], [So...</td>\n",
       "      <td>SUPPORTS</td>\n",
       "    </tr>\n",
       "    <tr>\n",
       "      <th>114789</th>\n",
       "      <td>A Good Day to Die Hard is part of the Library ...</td>\n",
       "      <td>[]</td>\n",
       "      <td>NOT ENOUGH INFO</td>\n",
       "    </tr>\n",
       "    <tr>\n",
       "      <th>126871</th>\n",
       "      <td>The Icelandic Coast Guard is also known as Gae...</td>\n",
       "      <td>[]</td>\n",
       "      <td>NOT ENOUGH INFO</td>\n",
       "    </tr>\n",
       "  </tbody>\n",
       "</table>\n",
       "</div>"
      ],
      "text/plain": [
       "                                                    claim  \\\n",
       "110000                       Raven-Symoné is an Anglican.   \n",
       "73397   Temple of the Dog celebrated the 37th annivers...   \n",
       "16079    Solanum contains plants with ornamental flowers.   \n",
       "114789  A Good Day to Die Hard is part of the Library ...   \n",
       "126871  The Icelandic Coast Guard is also known as Gae...   \n",
       "\n",
       "                                                 evidence            label  \n",
       "110000  [[Raven-Symoné, 0], [Raven-Symoné, 0], [Raven-...         SUPPORTS  \n",
       "73397                                                  []  NOT ENOUGH INFO  \n",
       "16079   [[Solanum, 1], [Solanum, 1], [Solanum, 1], [So...         SUPPORTS  \n",
       "114789                                                 []  NOT ENOUGH INFO  \n",
       "126871                                                 []  NOT ENOUGH INFO  "
      ]
     },
     "execution_count": 604,
     "metadata": {},
     "output_type": "execute_result"
    }
   ],
   "source": [
    "model_1.head()"
   ]
  }
 ],
 "metadata": {
  "kernelspec": {
   "display_name": "Python 3",
   "language": "python",
   "name": "python3"
  },
  "language_info": {
   "codemirror_mode": {
    "name": "ipython",
    "version": 3
   },
   "file_extension": ".py",
   "mimetype": "text/x-python",
   "name": "python",
   "nbconvert_exporter": "python",
   "pygments_lexer": "ipython3",
   "version": "3.7.2"
  }
 },
 "nbformat": 4,
 "nbformat_minor": 2
}
