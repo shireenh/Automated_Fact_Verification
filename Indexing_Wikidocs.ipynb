{
 "cells": [
  {
   "cell_type": "markdown",
   "metadata": {},
   "source": [
    "# Indexing using Xapian"
   ]
  },
  {
   "cell_type": "code",
   "execution_count": 2,
   "metadata": {},
   "outputs": [],
   "source": [
    "import xapian\n",
    "import string\n",
    "import sys\n",
    "import time\n",
    "import glob"
   ]
  },
  {
   "cell_type": "markdown",
   "metadata": {},
   "source": [
    "### Path of Wiki-files"
   ]
  },
  {
   "cell_type": "code",
   "execution_count": null,
   "metadata": {},
   "outputs": [],
   "source": [
    "path = \"wiki-pages-text\"\n",
    "files = [f for f in glob.glob(path + \"**/*.txt\", recursive=True)]"
   ]
  },
  {
   "cell_type": "markdown",
   "metadata": {},
   "source": [
    "### Path to save indexed File"
   ]
  },
  {
   "cell_type": "code",
   "execution_count": null,
   "metadata": {},
   "outputs": [],
   "source": [
    "database = xapian.WritableDatabase(\"db-index\", xapian.DB_CREATE)"
   ]
  },
  {
   "cell_type": "markdown",
   "metadata": {},
   "source": [
    "## Simple_Index"
   ]
  },
  {
   "cell_type": "code",
   "execution_count": null,
   "metadata": {},
   "outputs": [],
   "source": [
    "start = time.time()\n",
    "indexer = xapian.TermGenerator()\n",
    "stemmer = xapian.Stem(\"english\")\n",
    "indexer.set_stemmer(stemmer)\n",
    "index=0\n",
    "for i, shard_path in enumerate(files):\n",
    "    \n",
    "    print(\"FILE PROCESSED: \",i+1,\"\\t\",shard_path)\n",
    "    fp = open(shard_path,'r')\n",
    "    text = fp.readlines()\n",
    "    for line_num, line in enumerate(text):\n",
    "        index+=1\n",
    "        line_list = line.split(\" \")\n",
    "        page_id = line_list.pop(0)\n",
    "        sentence_id = line_list[0]\n",
    "        sentence = \" \".join(line_list)\n",
    "        sentence = sentence.replace(\"\\n\",\"\")\n",
    "\n",
    "        # Store all the fields for display purposes.\n",
    "        doc = xapian.Document()\n",
    "        indexer.set_document(doc)\n",
    "        \n",
    "\n",
    "        # Index fields without prefixes for general search.\n",
    "        indexer.index_text(page_id.replace(\"_\",\" \"))#title\n",
    "        indexer.increase_termpos()\n",
    "        indexer.index_text(sentence)#text\n",
    "        \n",
    "        doc.set_data(line)\n",
    "        idterm = u\"Q\" + sentence_id\n",
    "        doc.add_boolean_term(idterm)\n",
    "\n",
    "            # Add the document to the database.\n",
    "        database.replace_document(index, doc)\n",
    "    print(\"TIME ELAPSED: \",(time.time() - start)/60)\n",
    "\n",
    "print(\"TOTAL TIME:\", (time.time() - start)/60)\n",
    "database.commit()\n",
    "database.close()"
   ]
  },
  {
   "cell_type": "code",
   "execution_count": null,
   "metadata": {},
   "outputs": [],
   "source": [
    "#TOTAL TIME: 389.77472179730734"
   ]
  },
  {
   "cell_type": "markdown",
   "metadata": {},
   "source": [
    "# Simple_search"
   ]
  },
  {
   "cell_type": "code",
   "execution_count": 16,
   "metadata": {},
   "outputs": [
    {
     "name": "stdout",
     "output_type": "stream",
     "text": [
      "query: Query((roman@1 OR atwood@2 OR Zis@3 OR Za@4 OR Zcontent@5 OR Zcreator@6))\n",
      "13000000 results found.\n",
      "Results 1-5: \n",
      "\n",
      "1: 50% docid=21388834 [b'Bedside_Press 2 Bedside Press has published new content by up-and-coming artists/writers and established creators including Margaret Atwood , Trina Robbins , and Roberta Gregory .\\n'] \n",
      "\n",
      "2: 47% docid=12747166 [b'Roman_Atwood 0 Roman Bernard Atwood -LRB- born May 28 , 1983 -RRB- is an American YouTube personality , comedian , vlogger and pranker .\\n'] \n",
      "\n",
      "3: 42% docid=22952871 [b'Brett_Atwood 0 Brett Atwood is a website editor , content strategist and former print and online journalist whose writings have appeared in Billboard , Rolling Stone , Vibe , The Hollywood Reporter and other publications .\\n'] \n",
      "\n",
      "4: 42% docid=5490985 [b'Television_program_creators 21 Who merits creator credit is sometimes a matter of contention .\\n'] \n",
      "\n",
      "5: 38% docid=16846851 [b'Patreon 0 Patreon is an Internet-based platform that allows content creators to build their own subscription content service .\\n'] \n",
      "\n",
      "TOTAL TIME: 0.002213633060455322\n"
     ]
    }
   ],
   "source": [
    "start = time.time()\n",
    "# Open the database for searching.\n",
    "database = xapian.Database(\"db-index/\")\n",
    "\n",
    "# Start an enquire session.\n",
    "enquire = xapian.Enquire(database)\n",
    "\n",
    "\n",
    "query_string = 'Roman Atwood is a content creator.'\n",
    "# Parse the query string to produce a Xapian::Query object.\n",
    "qp = xapian.QueryParser()\n",
    "\n",
    "stemmer = xapian.Stem(\"english\")\n",
    "qp.set_stemmer(stemmer)\n",
    "qp.set_database(database)\n",
    "qp.set_stemming_strategy(xapian.QueryParser.STEM_SOME)\n",
    "query = qp.parse_query(query_string)\n",
    "print('query:', query)\n",
    "\n",
    "enquire.set_query(query)\n",
    "matches = enquire.get_mset(0, 5)\n",
    "\n",
    "# Display the results.\n",
    "print (\"%i results found.\" % matches.get_matches_estimated())\n",
    "print (\"Results 1-%i:\" % matches.size(),'\\n')\n",
    "\n",
    "for m in matches:\n",
    "    print (\"%i: %i%% docid=%i [%s]\" % (m.rank + 1, m.percent, m.docid, m.document.get_data()), '\\n')\n",
    "    \n",
    "print(\"TOTAL TIME:\", (time.time() - start)/60)"
   ]
  }
 ],
 "metadata": {
  "kernelspec": {
   "display_name": "Python 3",
   "language": "python",
   "name": "python3"
  },
  "language_info": {
   "codemirror_mode": {
    "name": "ipython",
    "version": 3
   },
   "file_extension": ".py",
   "mimetype": "text/x-python",
   "name": "python",
   "nbconvert_exporter": "python",
   "pygments_lexer": "ipython3",
   "version": "3.7.2"
  }
 },
 "nbformat": 4,
 "nbformat_minor": 2
}
