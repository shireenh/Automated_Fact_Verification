{
 "cells": [
  {
   "cell_type": "code",
   "execution_count": 1,
   "metadata": {},
   "outputs": [
    {
     "name": "stdout",
     "output_type": "stream",
     "text": [
      "importing Jupyter notebook from Features_extraction.ipynb\n"
     ]
    }
   ],
   "source": [
    "import numpy as np\n",
    "import json\n",
    "import pandas as pd\n",
    "from pandas.io.json import json_normalize\n",
    "import xapian\n",
    "import string\n",
    "import sys\n",
    "import time\n",
    "import glob\n",
    "from pandas import DataFrame\n",
    "import spacy\n",
    "import import_ipynb\n",
    "from Features_extraction import *"
   ]
  },
  {
   "cell_type": "code",
   "execution_count": 2,
   "metadata": {},
   "outputs": [
    {
     "name": "stderr",
     "output_type": "stream",
     "text": [
      "/Library/Frameworks/Python.framework/Versions/3.7/lib/python3.7/site-packages/tqdm/autonotebook/__init__.py:14: TqdmExperimentalWarning: Using `tqdm.autonotebook.tqdm` in notebook mode. Use `tqdm.tqdm` instead to force console mode (e.g. in jupyter console)\n",
      "  \" (e.g. in jupyter console)\", TqdmExperimentalWarning)\n"
     ]
    }
   ],
   "source": [
    "import swifter"
   ]
  },
  {
   "cell_type": "code",
   "execution_count": 3,
   "metadata": {},
   "outputs": [],
   "source": [
    "test_file = 'test-unlabelled.json'  \n",
    "\n",
    "test_set = pd.read_json(open(test_file),orient='index')"
   ]
  },
  {
   "cell_type": "code",
   "execution_count": 4,
   "metadata": {},
   "outputs": [
    {
     "data": {
      "text/html": [
       "<div>\n",
       "<style scoped>\n",
       "    .dataframe tbody tr th:only-of-type {\n",
       "        vertical-align: middle;\n",
       "    }\n",
       "\n",
       "    .dataframe tbody tr th {\n",
       "        vertical-align: top;\n",
       "    }\n",
       "\n",
       "    .dataframe thead th {\n",
       "        text-align: right;\n",
       "    }\n",
       "</style>\n",
       "<table border=\"1\" class=\"dataframe\">\n",
       "  <thead>\n",
       "    <tr style=\"text-align: right;\">\n",
       "      <th></th>\n",
       "      <th>claim</th>\n",
       "    </tr>\n",
       "  </thead>\n",
       "  <tbody>\n",
       "    <tr>\n",
       "      <th>110000</th>\n",
       "      <td>Raven-Symoné is an Anglican.</td>\n",
       "    </tr>\n",
       "    <tr>\n",
       "      <th>73397</th>\n",
       "      <td>Temple of the Dog celebrated the 37th annivers...</td>\n",
       "    </tr>\n",
       "    <tr>\n",
       "      <th>16079</th>\n",
       "      <td>Solanum contains plants with ornamental flowers.</td>\n",
       "    </tr>\n",
       "    <tr>\n",
       "      <th>114789</th>\n",
       "      <td>A Good Day to Die Hard is part of the Library ...</td>\n",
       "    </tr>\n",
       "    <tr>\n",
       "      <th>126871</th>\n",
       "      <td>The Icelandic Coast Guard is also known as Gae...</td>\n",
       "    </tr>\n",
       "  </tbody>\n",
       "</table>\n",
       "</div>"
      ],
      "text/plain": [
       "                                                    claim\n",
       "110000                       Raven-Symoné is an Anglican.\n",
       "73397   Temple of the Dog celebrated the 37th annivers...\n",
       "16079    Solanum contains plants with ornamental flowers.\n",
       "114789  A Good Day to Die Hard is part of the Library ...\n",
       "126871  The Icelandic Coast Guard is also known as Gae..."
      ]
     },
     "execution_count": 4,
     "metadata": {},
     "output_type": "execute_result"
    }
   ],
   "source": [
    "test_set.head()"
   ]
  },
  {
   "cell_type": "code",
   "execution_count": 5,
   "metadata": {},
   "outputs": [],
   "source": [
    "test_set.reset_index(inplace=True)"
   ]
  },
  {
   "cell_type": "code",
   "execution_count": 6,
   "metadata": {},
   "outputs": [
    {
     "data": {
      "text/html": [
       "<div>\n",
       "<style scoped>\n",
       "    .dataframe tbody tr th:only-of-type {\n",
       "        vertical-align: middle;\n",
       "    }\n",
       "\n",
       "    .dataframe tbody tr th {\n",
       "        vertical-align: top;\n",
       "    }\n",
       "\n",
       "    .dataframe thead th {\n",
       "        text-align: right;\n",
       "    }\n",
       "</style>\n",
       "<table border=\"1\" class=\"dataframe\">\n",
       "  <thead>\n",
       "    <tr style=\"text-align: right;\">\n",
       "      <th></th>\n",
       "      <th>index</th>\n",
       "      <th>claim</th>\n",
       "    </tr>\n",
       "  </thead>\n",
       "  <tbody>\n",
       "    <tr>\n",
       "      <th>0</th>\n",
       "      <td>110000</td>\n",
       "      <td>Raven-Symoné is an Anglican.</td>\n",
       "    </tr>\n",
       "    <tr>\n",
       "      <th>1</th>\n",
       "      <td>73397</td>\n",
       "      <td>Temple of the Dog celebrated the 37th annivers...</td>\n",
       "    </tr>\n",
       "    <tr>\n",
       "      <th>2</th>\n",
       "      <td>16079</td>\n",
       "      <td>Solanum contains plants with ornamental flowers.</td>\n",
       "    </tr>\n",
       "    <tr>\n",
       "      <th>3</th>\n",
       "      <td>114789</td>\n",
       "      <td>A Good Day to Die Hard is part of the Library ...</td>\n",
       "    </tr>\n",
       "    <tr>\n",
       "      <th>4</th>\n",
       "      <td>126871</td>\n",
       "      <td>The Icelandic Coast Guard is also known as Gae...</td>\n",
       "    </tr>\n",
       "  </tbody>\n",
       "</table>\n",
       "</div>"
      ],
      "text/plain": [
       "    index                                              claim\n",
       "0  110000                       Raven-Symoné is an Anglican.\n",
       "1   73397  Temple of the Dog celebrated the 37th annivers...\n",
       "2   16079   Solanum contains plants with ornamental flowers.\n",
       "3  114789  A Good Day to Die Hard is part of the Library ...\n",
       "4  126871  The Icelandic Coast Guard is also known as Gae..."
      ]
     },
     "execution_count": 6,
     "metadata": {},
     "output_type": "execute_result"
    }
   ],
   "source": [
    "test_set.head()"
   ]
  },
  {
   "cell_type": "code",
   "execution_count": 7,
   "metadata": {},
   "outputs": [],
   "source": [
    "start = time.time()\n",
    "# Open the database for searching.\n",
    "database = xapian.Database(\"db-index\")\n",
    "# Start an enquire session.\n",
    "enquire = xapian.Enquire(database)"
   ]
  },
  {
   "cell_type": "code",
   "execution_count": 8,
   "metadata": {},
   "outputs": [],
   "source": [
    "doc=[]\n",
    "def get_topk_evidence(df):\n",
    "    claim_id = df[\"index\"]\n",
    "    claim = df[\"claim\"]\n",
    "    query_string = claim\n",
    "    # Parse the query string to produce a Xapian::Query object.\n",
    "    qp = xapian.QueryParser()\n",
    "    stemmer = xapian.Stem(\"english\")\n",
    "    qp.set_stemmer(stemmer)\n",
    "    qp.set_database(database)\n",
    "    qp.set_stemming_strategy(xapian.QueryParser.STEM_SOME)\n",
    "    query = qp.parse_query(query_string)\n",
    "\n",
    "    # Find the top 10 results for the query.\n",
    "    enquire.set_query(query)\n",
    "    matches = enquire.get_mset(0, 5)\n",
    "\n",
    "    \n",
    "    \n",
    "    for m in matches:\n",
    "        a = m.document.get_data().decode('utf-8')\n",
    "        tile_pageid = a.split(' ', 2)[:2]\n",
    "        text = a.split(' ', 2)[2] \n",
    "        if str(tile_pageid[1]).isdigit():\n",
    "            doc.append(dict(\n",
    "                claim_id = claim_id,\n",
    "                claim = claim,\n",
    "                ir_lookup = a,\n",
    "                evidence_topk = tile_pageid,\n",
    "                text_topk =text,\n",
    "                percentage = m.percent,\n",
    "                weight = m.weight,            \n",
    "            ))\n"
   ]
  },
  {
   "cell_type": "code",
   "execution_count": 9,
   "metadata": {},
   "outputs": [
    {
     "data": {
      "application/vnd.jupyter.widget-view+json": {
       "model_id": "4f064b6809b74177847ea6ac7c5d6ff5",
       "version_major": 2,
       "version_minor": 0
      },
      "text/plain": [
       "HBox(children=(IntProgress(value=0, description='Pandas Apply', max=14997, style=ProgressStyle(description_wid…"
      ]
     },
     "metadata": {},
     "output_type": "display_data"
    },
    {
     "name": "stdout",
     "output_type": "stream",
     "text": [
      "\n"
     ]
    }
   ],
   "source": [
    "nun = test_set.swifter.apply(get_topk_evidence,axis=1)"
   ]
  },
  {
   "cell_type": "code",
   "execution_count": 10,
   "metadata": {},
   "outputs": [],
   "source": [
    "test_set = pd.DataFrame(doc)"
   ]
  },
  {
   "cell_type": "code",
   "execution_count": 11,
   "metadata": {},
   "outputs": [
    {
     "data": {
      "text/html": [
       "<div>\n",
       "<style scoped>\n",
       "    .dataframe tbody tr th:only-of-type {\n",
       "        vertical-align: middle;\n",
       "    }\n",
       "\n",
       "    .dataframe tbody tr th {\n",
       "        vertical-align: top;\n",
       "    }\n",
       "\n",
       "    .dataframe thead th {\n",
       "        text-align: right;\n",
       "    }\n",
       "</style>\n",
       "<table border=\"1\" class=\"dataframe\">\n",
       "  <thead>\n",
       "    <tr style=\"text-align: right;\">\n",
       "      <th></th>\n",
       "      <th>claim</th>\n",
       "      <th>claim_id</th>\n",
       "      <th>evidence_topk</th>\n",
       "      <th>ir_lookup</th>\n",
       "      <th>percentage</th>\n",
       "      <th>text_topk</th>\n",
       "      <th>weight</th>\n",
       "    </tr>\n",
       "  </thead>\n",
       "  <tbody>\n",
       "    <tr>\n",
       "      <th>0</th>\n",
       "      <td>Raven-Symoné is an Anglican.</td>\n",
       "      <td>110000</td>\n",
       "      <td>[Raven-Symoné_-LRB-album-RRB-, 0]</td>\n",
       "      <td>Raven-Symoné_-LRB-album-RRB- 0 Raven-Symoné is...</td>\n",
       "      <td>60</td>\n",
       "      <td>Raven-Symoné is the eponymous fourth studio al...</td>\n",
       "      <td>33.126754</td>\n",
       "    </tr>\n",
       "    <tr>\n",
       "      <th>1</th>\n",
       "      <td>Raven-Symoné is an Anglican.</td>\n",
       "      <td>110000</td>\n",
       "      <td>[Raven-Symoné_discography, 22]</td>\n",
       "      <td>Raven-Symoné_discography 22 Symoné released he...</td>\n",
       "      <td>57</td>\n",
       "      <td>Symoné released her fourth studio album Raven-...</td>\n",
       "      <td>31.608605</td>\n",
       "    </tr>\n",
       "    <tr>\n",
       "      <th>2</th>\n",
       "      <td>Raven-Symoné is an Anglican.</td>\n",
       "      <td>110000</td>\n",
       "      <td>[Raven-Symoné, 0]</td>\n",
       "      <td>Raven-Symoné 0 Raven-Symoné Christina Pearman ...</td>\n",
       "      <td>55</td>\n",
       "      <td>Raven-Symoné Christina Pearman -LRB- -LSB- ˈre...</td>\n",
       "      <td>30.747189</td>\n",
       "    </tr>\n",
       "    <tr>\n",
       "      <th>3</th>\n",
       "      <td>Raven-Symoné is an Anglican.</td>\n",
       "      <td>110000</td>\n",
       "      <td>[Raven-Symoné_discography, 0]</td>\n",
       "      <td>Raven-Symoné_discography 0 The following is a ...</td>\n",
       "      <td>55</td>\n",
       "      <td>The following is a discography for the America...</td>\n",
       "      <td>30.456548</td>\n",
       "    </tr>\n",
       "    <tr>\n",
       "      <th>4</th>\n",
       "      <td>Raven-Symoné is an Anglican.</td>\n",
       "      <td>110000</td>\n",
       "      <td>[Raven-Symoné, 14]</td>\n",
       "      <td>Raven-Symoné 14 As of April 2008 , Raven-Symon...</td>\n",
       "      <td>53</td>\n",
       "      <td>As of April 2008 , Raven-Symoné has sold 314,0...</td>\n",
       "      <td>29.496223</td>\n",
       "    </tr>\n",
       "  </tbody>\n",
       "</table>\n",
       "</div>"
      ],
      "text/plain": [
       "                          claim  claim_id                      evidence_topk  \\\n",
       "0  Raven-Symoné is an Anglican.    110000  [Raven-Symoné_-LRB-album-RRB-, 0]   \n",
       "1  Raven-Symoné is an Anglican.    110000     [Raven-Symoné_discography, 22]   \n",
       "2  Raven-Symoné is an Anglican.    110000                  [Raven-Symoné, 0]   \n",
       "3  Raven-Symoné is an Anglican.    110000      [Raven-Symoné_discography, 0]   \n",
       "4  Raven-Symoné is an Anglican.    110000                 [Raven-Symoné, 14]   \n",
       "\n",
       "                                           ir_lookup  percentage  \\\n",
       "0  Raven-Symoné_-LRB-album-RRB- 0 Raven-Symoné is...          60   \n",
       "1  Raven-Symoné_discography 22 Symoné released he...          57   \n",
       "2  Raven-Symoné 0 Raven-Symoné Christina Pearman ...          55   \n",
       "3  Raven-Symoné_discography 0 The following is a ...          55   \n",
       "4  Raven-Symoné 14 As of April 2008 , Raven-Symon...          53   \n",
       "\n",
       "                                           text_topk     weight  \n",
       "0  Raven-Symoné is the eponymous fourth studio al...  33.126754  \n",
       "1  Symoné released her fourth studio album Raven-...  31.608605  \n",
       "2  Raven-Symoné Christina Pearman -LRB- -LSB- ˈre...  30.747189  \n",
       "3  The following is a discography for the America...  30.456548  \n",
       "4  As of April 2008 , Raven-Symoné has sold 314,0...  29.496223  "
      ]
     },
     "execution_count": 11,
     "metadata": {},
     "output_type": "execute_result"
    }
   ],
   "source": [
    "test_set.head()"
   ]
  },
  {
   "cell_type": "markdown",
   "metadata": {},
   "source": [
    "# Feature Extraction"
   ]
  },
  {
   "cell_type": "code",
   "execution_count": null,
   "metadata": {},
   "outputs": [],
   "source": [
    "jaccard_sim = []\n",
    "lcs_data = []\n",
    "spacy_sim = []\n",
    "cosine_sim = []\n",
    "ngram = []\n",
    "\n",
    "    \n",
    "for i, val in test_set.iterrows():\n",
    "    claim = val['claim']\n",
    "    evidence = val['text_topk'] #val['evidence']\n",
    "\n",
    "    #Jaccard Similarity \n",
    "    jacc = jaccardSim(claim, evidence)\n",
    "    jaccard_sim.append(jacc)\n",
    "    \n",
    "    #LCS\n",
    "    lcs_count = lcs(str(claim), str(evidence))\n",
    "    lcs_data.append(lcs_count)\n",
    "    \n",
    "    #spacy simlarity\n",
    "    sim = (nlp(claim)).similarity(nlp(evidence))\n",
    "    spacy_sim.append(sim)\n",
    "    \n",
    "    #cosine_sim_tfidf\n",
    "    document = [claim,evidence]\n",
    "    cosine_sim.append(cosineSimTfidf(document))\n",
    "    \n",
    "    #NGram compare\n",
    "    ngram_comp = NGram.compare(claim,evidence)\n",
    "    ngram.append(ngram_comp)\n",
    "    \n",
    "    \n",
    "test_set['jaccard_sim'] = jaccard_sim\n",
    "test_set['cosine_sim_tfidf'] = cosine_sim\n",
    "test_set['spaCy_similarity'] = spacy_sim\n",
    "test_set['lcs'] = lcs_data\n",
    "test_set['ngram'] = ngram"
   ]
  },
  {
   "cell_type": "code",
   "execution_count": 17,
   "metadata": {},
   "outputs": [
    {
     "data": {
      "text/html": [
       "<div>\n",
       "<style scoped>\n",
       "    .dataframe tbody tr th:only-of-type {\n",
       "        vertical-align: middle;\n",
       "    }\n",
       "\n",
       "    .dataframe tbody tr th {\n",
       "        vertical-align: top;\n",
       "    }\n",
       "\n",
       "    .dataframe thead th {\n",
       "        text-align: right;\n",
       "    }\n",
       "</style>\n",
       "<table border=\"1\" class=\"dataframe\">\n",
       "  <thead>\n",
       "    <tr style=\"text-align: right;\">\n",
       "      <th></th>\n",
       "      <th>claim</th>\n",
       "      <th>claim_id</th>\n",
       "      <th>evidence_topk</th>\n",
       "      <th>ir_lookup</th>\n",
       "      <th>percentage</th>\n",
       "      <th>text_topk</th>\n",
       "      <th>weight</th>\n",
       "      <th>jaccard_sim</th>\n",
       "      <th>cosine_sim_tfidf</th>\n",
       "      <th>spaCy_similarity</th>\n",
       "      <th>lcs</th>\n",
       "      <th>ngram</th>\n",
       "    </tr>\n",
       "  </thead>\n",
       "  <tbody>\n",
       "    <tr>\n",
       "      <th>0</th>\n",
       "      <td>Raven-Symoné is an Anglican.</td>\n",
       "      <td>110000</td>\n",
       "      <td>[Raven-Symoné_-LRB-album-RRB-, 0]</td>\n",
       "      <td>Raven-Symoné_-LRB-album-RRB- 0 Raven-Symoné is...</td>\n",
       "      <td>60</td>\n",
       "      <td>Raven-Symoné is the eponymous fourth studio al...</td>\n",
       "      <td>33.126754</td>\n",
       "      <td>0.166667</td>\n",
       "      <td>0.380809</td>\n",
       "      <td>0.697864</td>\n",
       "      <td>2</td>\n",
       "      <td>0.161616</td>\n",
       "    </tr>\n",
       "    <tr>\n",
       "      <th>1</th>\n",
       "      <td>Raven-Symoné is an Anglican.</td>\n",
       "      <td>110000</td>\n",
       "      <td>[Raven-Symoné_discography, 22]</td>\n",
       "      <td>Raven-Symoné_discography 22 Symoné released he...</td>\n",
       "      <td>57</td>\n",
       "      <td>Symoné released her fourth studio album Raven-...</td>\n",
       "      <td>31.608605</td>\n",
       "      <td>0.062500</td>\n",
       "      <td>0.223273</td>\n",
       "      <td>0.595640</td>\n",
       "      <td>1</td>\n",
       "      <td>0.127660</td>\n",
       "    </tr>\n",
       "    <tr>\n",
       "      <th>2</th>\n",
       "      <td>Raven-Symoné is an Anglican.</td>\n",
       "      <td>110000</td>\n",
       "      <td>[Raven-Symoné, 0]</td>\n",
       "      <td>Raven-Symoné 0 Raven-Symoné Christina Pearman ...</td>\n",
       "      <td>55</td>\n",
       "      <td>Raven-Symoné Christina Pearman -LRB- -LSB- ˈre...</td>\n",
       "      <td>30.747189</td>\n",
       "      <td>0.096774</td>\n",
       "      <td>0.277305</td>\n",
       "      <td>0.657899</td>\n",
       "      <td>3</td>\n",
       "      <td>0.092105</td>\n",
       "    </tr>\n",
       "    <tr>\n",
       "      <th>3</th>\n",
       "      <td>Raven-Symoné is an Anglican.</td>\n",
       "      <td>110000</td>\n",
       "      <td>[Raven-Symoné_discography, 0]</td>\n",
       "      <td>Raven-Symoné_discography 0 The following is a ...</td>\n",
       "      <td>55</td>\n",
       "      <td>The following is a discography for the America...</td>\n",
       "      <td>30.456548</td>\n",
       "      <td>0.153846</td>\n",
       "      <td>0.238553</td>\n",
       "      <td>0.751015</td>\n",
       "      <td>1</td>\n",
       "      <td>0.177083</td>\n",
       "    </tr>\n",
       "    <tr>\n",
       "      <th>4</th>\n",
       "      <td>Raven-Symoné is an Anglican.</td>\n",
       "      <td>110000</td>\n",
       "      <td>[Raven-Symoné, 14]</td>\n",
       "      <td>Raven-Symoné 14 As of April 2008 , Raven-Symon...</td>\n",
       "      <td>53</td>\n",
       "      <td>As of April 2008 , Raven-Symoné has sold 314,0...</td>\n",
       "      <td>29.496223</td>\n",
       "      <td>0.055556</td>\n",
       "      <td>0.135028</td>\n",
       "      <td>0.681647</td>\n",
       "      <td>1</td>\n",
       "      <td>0.110000</td>\n",
       "    </tr>\n",
       "  </tbody>\n",
       "</table>\n",
       "</div>"
      ],
      "text/plain": [
       "                          claim  claim_id                      evidence_topk  \\\n",
       "0  Raven-Symoné is an Anglican.    110000  [Raven-Symoné_-LRB-album-RRB-, 0]   \n",
       "1  Raven-Symoné is an Anglican.    110000     [Raven-Symoné_discography, 22]   \n",
       "2  Raven-Symoné is an Anglican.    110000                  [Raven-Symoné, 0]   \n",
       "3  Raven-Symoné is an Anglican.    110000      [Raven-Symoné_discography, 0]   \n",
       "4  Raven-Symoné is an Anglican.    110000                 [Raven-Symoné, 14]   \n",
       "\n",
       "                                           ir_lookup  percentage  \\\n",
       "0  Raven-Symoné_-LRB-album-RRB- 0 Raven-Symoné is...          60   \n",
       "1  Raven-Symoné_discography 22 Symoné released he...          57   \n",
       "2  Raven-Symoné 0 Raven-Symoné Christina Pearman ...          55   \n",
       "3  Raven-Symoné_discography 0 The following is a ...          55   \n",
       "4  Raven-Symoné 14 As of April 2008 , Raven-Symon...          53   \n",
       "\n",
       "                                           text_topk     weight  jaccard_sim  \\\n",
       "0  Raven-Symoné is the eponymous fourth studio al...  33.126754     0.166667   \n",
       "1  Symoné released her fourth studio album Raven-...  31.608605     0.062500   \n",
       "2  Raven-Symoné Christina Pearman -LRB- -LSB- ˈre...  30.747189     0.096774   \n",
       "3  The following is a discography for the America...  30.456548     0.153846   \n",
       "4  As of April 2008 , Raven-Symoné has sold 314,0...  29.496223     0.055556   \n",
       "\n",
       "   cosine_sim_tfidf  spaCy_similarity  lcs     ngram  \n",
       "0          0.380809          0.697864    2  0.161616  \n",
       "1          0.223273          0.595640    1  0.127660  \n",
       "2          0.277305          0.657899    3  0.092105  \n",
       "3          0.238553          0.751015    1  0.177083  \n",
       "4          0.135028          0.681647    1  0.110000  "
      ]
     },
     "execution_count": 17,
     "metadata": {},
     "output_type": "execute_result"
    }
   ],
   "source": [
    "test_set.head()"
   ]
  },
  {
   "cell_type": "code",
   "execution_count": 18,
   "metadata": {},
   "outputs": [],
   "source": [
    "test_set.to_csv('test_set_with_features_new.csv') #to csv"
   ]
  }
 ],
 "metadata": {
  "kernelspec": {
   "display_name": "Python 3",
   "language": "python",
   "name": "python3"
  },
  "language_info": {
   "codemirror_mode": {
    "name": "ipython",
    "version": 3
   },
   "file_extension": ".py",
   "mimetype": "text/x-python",
   "name": "python",
   "nbconvert_exporter": "python",
   "pygments_lexer": "ipython3",
   "version": "3.7.2"
  }
 },
 "nbformat": 4,
 "nbformat_minor": 2
}
