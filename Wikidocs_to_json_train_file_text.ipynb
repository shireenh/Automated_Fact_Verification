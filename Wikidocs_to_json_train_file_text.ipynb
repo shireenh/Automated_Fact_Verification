{
 "cells": [
  {
   "cell_type": "markdown",
   "metadata": {},
   "source": [
    "# Convert Wiki docs to Dict - JSON file"
   ]
  },
  {
   "cell_type": "code",
   "execution_count": 1,
   "metadata": {},
   "outputs": [],
   "source": [
    "import time\n",
    "import glob\n",
    "import string\n",
    "import sys\n",
    "import pickle\n",
    "import pandas as pd\n",
    "import io"
   ]
  },
  {
   "cell_type": "code",
   "execution_count": 2,
   "metadata": {},
   "outputs": [],
   "source": [
    "path = \"wiki-pages-text\"\n",
    "files = [f for f in glob.glob(path + \"**/*.txt\", recursive=True)]"
   ]
  },
  {
   "cell_type": "code",
   "execution_count": 3,
   "metadata": {},
   "outputs": [
    {
     "name": "stdout",
     "output_type": "stream",
     "text": [
      "FILE PROCESSED:  1 \t wiki-pages-text/wiki-009.txt\n",
      "FILE PROCESSED:  2 \t wiki-pages-text/wiki-021.txt\n",
      "FILE PROCESSED:  3 \t wiki-pages-text/wiki-035.txt\n",
      "FILE PROCESSED:  4 \t wiki-pages-text/wiki-034.txt\n",
      "FILE PROCESSED:  5 \t wiki-pages-text/wiki-020.txt\n",
      "FILE PROCESSED:  6 \t wiki-pages-text/wiki-008.txt\n",
      "FILE PROCESSED:  7 \t wiki-pages-text/wiki-036.txt\n",
      "FILE PROCESSED:  8 \t wiki-pages-text/wiki-022.txt\n",
      "FILE PROCESSED:  9 \t wiki-pages-text/wiki-023.txt\n",
      "FILE PROCESSED:  10 \t wiki-pages-text/wiki-037.txt\n",
      "FILE PROCESSED:  11 \t wiki-pages-text/wiki-033.txt\n",
      "FILE PROCESSED:  12 \t wiki-pages-text/wiki-027.txt\n",
      "FILE PROCESSED:  13 \t wiki-pages-text/wiki-026.txt\n",
      "FILE PROCESSED:  14 \t wiki-pages-text/wiki-032.txt\n",
      "FILE PROCESSED:  15 \t wiki-pages-text/wiki-024.txt\n",
      "FILE PROCESSED:  16 \t wiki-pages-text/wiki-030.txt\n",
      "FILE PROCESSED:  17 \t wiki-pages-text/wiki-018.txt\n",
      "FILE PROCESSED:  18 \t wiki-pages-text/wiki-019.txt\n",
      "FILE PROCESSED:  19 \t wiki-pages-text/wiki-031.txt\n",
      "FILE PROCESSED:  20 \t wiki-pages-text/wiki-025.txt\n",
      "FILE PROCESSED:  21 \t wiki-pages-text/wiki-042.txt\n",
      "FILE PROCESSED:  22 \t wiki-pages-text/wiki-056.txt\n",
      "FILE PROCESSED:  23 \t wiki-pages-text/wiki-081.txt\n",
      "FILE PROCESSED:  24 \t wiki-pages-text/wiki-095.txt\n",
      "FILE PROCESSED:  25 \t wiki-pages-text/wiki-094.txt\n",
      "FILE PROCESSED:  26 \t wiki-pages-text/wiki-080.txt\n",
      "FILE PROCESSED:  27 \t wiki-pages-text/wiki-057.txt\n",
      "FILE PROCESSED:  28 \t wiki-pages-text/wiki-043.txt\n",
      "FILE PROCESSED:  29 \t wiki-pages-text/wiki-069.txt\n",
      "FILE PROCESSED:  30 \t wiki-pages-text/wiki-055.txt\n",
      "FILE PROCESSED:  31 \t wiki-pages-text/wiki-041.txt\n",
      "FILE PROCESSED:  32 \t wiki-pages-text/wiki-096.txt\n",
      "FILE PROCESSED:  33 \t wiki-pages-text/wiki-082.txt\n",
      "FILE PROCESSED:  34 \t wiki-pages-text/wiki-109.txt\n",
      "FILE PROCESSED:  35 \t wiki-pages-text/wiki-108.txt\n",
      "FILE PROCESSED:  36 \t wiki-pages-text/wiki-083.txt\n",
      "FILE PROCESSED:  37 \t wiki-pages-text/wiki-097.txt\n",
      "FILE PROCESSED:  38 \t wiki-pages-text/wiki-040.txt\n",
      "FILE PROCESSED:  39 \t wiki-pages-text/wiki-054.txt\n",
      "FILE PROCESSED:  40 \t wiki-pages-text/wiki-068.txt\n",
      "FILE PROCESSED:  41 \t wiki-pages-text/wiki-050.txt\n",
      "FILE PROCESSED:  42 \t wiki-pages-text/wiki-044.txt\n",
      "FILE PROCESSED:  43 \t wiki-pages-text/wiki-078.txt\n",
      "FILE PROCESSED:  44 \t wiki-pages-text/wiki-093.txt\n",
      "FILE PROCESSED:  45 \t wiki-pages-text/wiki-087.txt\n",
      "FILE PROCESSED:  46 \t wiki-pages-text/wiki-086.txt\n",
      "FILE PROCESSED:  47 \t wiki-pages-text/wiki-092.txt\n",
      "FILE PROCESSED:  48 \t wiki-pages-text/wiki-079.txt\n",
      "FILE PROCESSED:  49 \t wiki-pages-text/wiki-045.txt\n",
      "FILE PROCESSED:  50 \t wiki-pages-text/wiki-051.txt\n",
      "FILE PROCESSED:  51 \t wiki-pages-text/wiki-047.txt\n",
      "FILE PROCESSED:  52 \t wiki-pages-text/wiki-053.txt\n",
      "FILE PROCESSED:  53 \t wiki-pages-text/wiki-084.txt\n",
      "FILE PROCESSED:  54 \t wiki-pages-text/wiki-090.txt\n",
      "FILE PROCESSED:  55 \t wiki-pages-text/wiki-091.txt\n",
      "FILE PROCESSED:  56 \t wiki-pages-text/wiki-085.txt\n",
      "FILE PROCESSED:  57 \t wiki-pages-text/wiki-052.txt\n",
      "FILE PROCESSED:  58 \t wiki-pages-text/wiki-046.txt\n",
      "FILE PROCESSED:  59 \t wiki-pages-text/wiki-063.txt\n",
      "FILE PROCESSED:  60 \t wiki-pages-text/wiki-077.txt\n",
      "FILE PROCESSED:  61 \t wiki-pages-text/wiki-088.txt\n",
      "FILE PROCESSED:  62 \t wiki-pages-text/wiki-103.txt\n",
      "FILE PROCESSED:  63 \t wiki-pages-text/wiki-102.txt\n",
      "FILE PROCESSED:  64 \t wiki-pages-text/wiki-089.txt\n",
      "FILE PROCESSED:  65 \t wiki-pages-text/wiki-076.txt\n",
      "FILE PROCESSED:  66 \t wiki-pages-text/wiki-062.txt\n",
      "FILE PROCESSED:  67 \t wiki-pages-text/wiki-048.txt\n",
      "FILE PROCESSED:  68 \t wiki-pages-text/wiki-074.txt\n",
      "FILE PROCESSED:  69 \t wiki-pages-text/wiki-060.txt\n",
      "FILE PROCESSED:  70 \t wiki-pages-text/wiki-100.txt\n",
      "FILE PROCESSED:  71 \t wiki-pages-text/wiki-101.txt\n",
      "FILE PROCESSED:  72 \t wiki-pages-text/wiki-061.txt\n",
      "FILE PROCESSED:  73 \t wiki-pages-text/wiki-075.txt\n",
      "FILE PROCESSED:  74 \t wiki-pages-text/wiki-049.txt\n",
      "FILE PROCESSED:  75 \t wiki-pages-text/wiki-071.txt\n",
      "FILE PROCESSED:  76 \t wiki-pages-text/wiki-065.txt\n",
      "FILE PROCESSED:  77 \t wiki-pages-text/wiki-059.txt\n",
      "FILE PROCESSED:  78 \t wiki-pages-text/wiki-105.txt\n",
      "FILE PROCESSED:  79 \t wiki-pages-text/wiki-104.txt\n",
      "FILE PROCESSED:  80 \t wiki-pages-text/wiki-058.txt\n",
      "FILE PROCESSED:  81 \t wiki-pages-text/wiki-064.txt\n",
      "FILE PROCESSED:  82 \t wiki-pages-text/wiki-070.txt\n",
      "FILE PROCESSED:  83 \t wiki-pages-text/wiki-066.txt\n",
      "FILE PROCESSED:  84 \t wiki-pages-text/wiki-072.txt\n",
      "FILE PROCESSED:  85 \t wiki-pages-text/wiki-099.txt\n",
      "FILE PROCESSED:  86 \t wiki-pages-text/wiki-106.txt\n",
      "FILE PROCESSED:  87 \t wiki-pages-text/wiki-107.txt\n",
      "FILE PROCESSED:  88 \t wiki-pages-text/wiki-098.txt\n",
      "FILE PROCESSED:  89 \t wiki-pages-text/wiki-073.txt\n",
      "FILE PROCESSED:  90 \t wiki-pages-text/wiki-067.txt\n",
      "FILE PROCESSED:  91 \t wiki-pages-text/wiki-028.txt\n",
      "FILE PROCESSED:  92 \t wiki-pages-text/wiki-014.txt\n",
      "FILE PROCESSED:  93 \t wiki-pages-text/wiki-015.txt\n",
      "FILE PROCESSED:  94 \t wiki-pages-text/wiki-001.txt\n",
      "FILE PROCESSED:  95 \t wiki-pages-text/wiki-029.txt\n",
      "FILE PROCESSED:  96 \t wiki-pages-text/wiki-017.txt\n",
      "FILE PROCESSED:  97 \t wiki-pages-text/wiki-003.txt\n",
      "FILE PROCESSED:  98 \t wiki-pages-text/wiki-002.txt\n",
      "FILE PROCESSED:  99 \t wiki-pages-text/wiki-016.txt\n",
      "FILE PROCESSED:  100 \t wiki-pages-text/wiki-012.txt\n",
      "FILE PROCESSED:  101 \t wiki-pages-text/wiki-006.txt\n",
      "FILE PROCESSED:  102 \t wiki-pages-text/wiki-007.txt\n",
      "FILE PROCESSED:  103 \t wiki-pages-text/wiki-013.txt\n",
      "FILE PROCESSED:  104 \t wiki-pages-text/wiki-005.txt\n",
      "FILE PROCESSED:  105 \t wiki-pages-text/wiki-011.txt\n",
      "FILE PROCESSED:  106 \t wiki-pages-text/wiki-039.txt\n",
      "FILE PROCESSED:  107 \t wiki-pages-text/wiki-038.txt\n",
      "FILE PROCESSED:  108 \t wiki-pages-text/wiki-010.txt\n",
      "FILE PROCESSED:  109 \t wiki-pages-text/wiki-004.txt\n"
     ]
    }
   ],
   "source": [
    "wikiData = {}\n",
    "for i, shard_path in enumerate(files):\n",
    "    print(\"FILE PROCESSED: \",i+1,\"\\t\",shard_path)\n",
    "    fp = open(shard_path,'r',encoding=\"utf-8\")\n",
    "    text = fp.readlines()\n",
    "    for line_num, line in enumerate(text):\n",
    "        line_list = line.split(\" \")\n",
    "        page_id = line_list.pop(0)\n",
    "        try:\n",
    "            sentence_id = int(line_list[0])\n",
    "        except:\n",
    "            pass\n",
    "        sentence_text = \" \".join(line_list[1:])\n",
    "        sentence_text = sentence_text.replace(\"\\n\",\"\")\n",
    "        \n",
    "        wikiData[(page_id,sentence_id)] = sentence_text"
   ]
  },
  {
   "cell_type": "code",
   "execution_count": 4,
   "metadata": {},
   "outputs": [],
   "source": [
    "wikiData = {str(key):val for key,val in wikiData.items()}"
   ]
  },
  {
   "cell_type": "markdown",
   "metadata": {},
   "source": [
    "## Save dictionary with name as data to a pickle file"
   ]
  },
  {
   "cell_type": "code",
   "execution_count": null,
   "metadata": {},
   "outputs": [],
   "source": [
    "with open('dictPickle.pickle', 'wb') as handle:  \n",
    "    pickle.dump(wikiData, handle)"
   ]
  },
  {
   "cell_type": "markdown",
   "metadata": {},
   "source": [
    "## Read the pickle file into a dictionary with name of wikiDict:"
   ]
  },
  {
   "cell_type": "code",
   "execution_count": 36,
   "metadata": {},
   "outputs": [],
   "source": [
    "with open('dictPickle.pickle', 'rb') as handle:\n",
    "    wikiTrain = pickle.load(handle)"
   ]
  },
  {
   "cell_type": "code",
   "execution_count": 40,
   "metadata": {},
   "outputs": [],
   "source": [
    "import unicodedata\n",
    "def normalize(inputString):\n",
    "    intermediaryString = unicodedata.normalize('NFKD', inputString)\n",
    "    return intermediaryString"
   ]
  },
  {
   "cell_type": "code",
   "execution_count": 41,
   "metadata": {},
   "outputs": [],
   "source": [
    "train_file = \"train.json\"\n",
    "trainset = pd.read_json(train_file,orient='index')"
   ]
  },
  {
   "cell_type": "code",
   "execution_count": 45,
   "metadata": {
    "scrolled": true
   },
   "outputs": [],
   "source": [
    "# Normalise the key string b4 adding them as keys\n",
    "wikiTrain = {normalize(key):val for key,val in wikiTrain.items()}\n",
    "textList = []\n",
    "missed_keys= []\n",
    "for data in trainset['evidence']:\n",
    "    textData = []\n",
    "    for val in data:\n",
    "        pair = str(tuple(val))\n",
    "        # normalise the key pair and query it\n",
    "        textData.append(normalize(wikiTrain[normalize(pair)]))\n",
    "    textList.append(textData)\n",
    "    \n",
    "trainset['text'] = textList"
   ]
  },
  {
   "cell_type": "markdown",
   "metadata": {},
   "source": [
    "## Train Set with Text"
   ]
  },
  {
   "cell_type": "code",
   "execution_count": 51,
   "metadata": {},
   "outputs": [],
   "source": [
    "trainset.to_json('train_with_text.json')"
   ]
  }
 ],
 "metadata": {
  "kernelspec": {
   "display_name": "Python 3",
   "language": "python",
   "name": "python3"
  },
  "language_info": {
   "codemirror_mode": {
    "name": "ipython",
    "version": 3
   },
   "file_extension": ".py",
   "mimetype": "text/x-python",
   "name": "python",
   "nbconvert_exporter": "python",
   "pygments_lexer": "ipython3",
   "version": "3.7.2"
  }
 },
 "nbformat": 4,
 "nbformat_minor": 2
}
